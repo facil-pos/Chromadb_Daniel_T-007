{
 "cells": [
  {
   "cell_type": "markdown",
   "metadata": {},
   "source": [
    "# Instalacion"
   ]
  },
  {
   "cell_type": "code",
   "execution_count": null,
   "metadata": {},
   "outputs": [],
   "source": [
    "!pip install chromadb "
   ]
  },
  {
   "cell_type": "markdown",
   "metadata": {},
   "source": [
    "# [Inicializacion de chromadb](https://docs.trychroma.com/reference/Client)\n",
    "\n",
    "Puedes crear una DB en memoria para pruebas creando un cliente Chroma DB sin configuraciones.\n",
    "\n",
    "En nuestro caso, crearemos una base de datos persistente que se almacenará en el directorio \"db/\" y utilizaremos DuckDB en el backend.\n",
    "\n",
    "Crea una instancia persistente de Chroma que se guarda en disco. Esto es útil para pruebas y desarrollo, pero no se recomienda para uso en producción.\n",
    "\n",
    "Argumentos\n",
    "\n",
    "* path: Directorio en el que se guardarán los datos de Chroma. Por defecto es \"./chroma\".\n",
    "* tenant: El tenant que se utilizará para este cliente. Por defecto es el tenant predeterminado.\n",
    "* database: La base de datos a utilizar para este cliente. Por defecto es la base de datos por defecto."
   ]
  },
  {
   "cell_type": "code",
   "execution_count": 19,
   "metadata": {},
   "outputs": [],
   "source": [
    "import chromadb\n",
    "client = chromadb.PersistentClient(path=\"./data\")"
   ]
  },
  {
   "cell_type": "markdown",
   "metadata": {},
   "source": [
    "# collecciones"
   ]
  },
  {
   "cell_type": "markdown",
   "metadata": {},
   "source": [
    "## Crear colleccion\n",
    "\n",
    "Crea una nueva colección con el nombre y los metadatos dados. Args:\n",
    "    name: El nombre de la colección a crear.\n",
    "    metadatos: Metadatos opcionales para asociar a la colección.\n",
    "    función_incrustar: Función opcional para incrustar documentos.\n",
    "                        Si no se especifica, se utiliza la función de incrustación predeterminada.\n",
    "    get_or_create: Si es True, devuelve la colección existente si existe.\n",
    "\n",
    "Ejemplos:\n",
    "\n",
    "    client.create_collection(\"mi_coleccion\")\n",
    "    # colección(nombre=\"mi_colección\", metadatos={})\n",
    "\n",
    "    client.create_collection(\"mi_coleccion\", metadatos={\"foo\": \"bar\"})\n",
    "    # collection(name=\"mi_coleccion\", metadatos={\"foo\": \"bar\"})"
   ]
  },
  {
   "cell_type": "code",
   "execution_count": 7,
   "metadata": {},
   "outputs": [],
   "source": [
    "collection = client.create_collection(name=\"Students\")"
   ]
  },
  {
   "cell_type": "markdown",
   "metadata": {},
   "source": [
    "### Crea una coleccion si no existe"
   ]
  },
  {
   "cell_type": "code",
   "execution_count": 8,
   "metadata": {},
   "outputs": [],
   "source": [
    "collection = client.get_or_create_collection(\"Students\")"
   ]
  },
  {
   "cell_type": "markdown",
   "metadata": {},
   "source": [
    "## Modifica colecciones\n",
    "\n",
    "* name: Actualiza el nombre de la coleccion. Optional.\n",
    "* metadata: Actualiza los metadatos de la coleccion. Optional.\n",
    "\n"
   ]
  },
  {
   "cell_type": "code",
   "execution_count": 9,
   "metadata": {},
   "outputs": [],
   "source": [
    "collection.modify(name=\"Students\")"
   ]
  },
  {
   "cell_type": "markdown",
   "metadata": {},
   "source": [
    "## Eliminar colecciones\n",
    "\n",
    "* name: Nombre de la coleccion a eliminar."
   ]
  },
  {
   "cell_type": "code",
   "execution_count": 6,
   "metadata": {},
   "outputs": [],
   "source": [
    "client.delete_collection(\"Students\")"
   ]
  },
  {
   "cell_type": "markdown",
   "metadata": {},
   "source": [
    "## Lista las colecciones existentes"
   ]
  },
  {
   "cell_type": "code",
   "execution_count": 10,
   "metadata": {},
   "outputs": [
    {
     "data": {
      "text/plain": [
       "[Collection(name=Students)]"
      ]
     },
     "execution_count": 10,
     "metadata": {},
     "output_type": "execute_result"
    }
   ],
   "source": [
    "client.list_collections()"
   ]
  },
  {
   "cell_type": "markdown",
   "metadata": {},
   "source": [
    "# Agregamos documentos\n",
    "\n",
    "Las colleciones permiten almacenar documentos y metadata asociados a la coleccion"
   ]
  },
  {
   "cell_type": "markdown",
   "metadata": {},
   "source": [
    "## Datos a guardar"
   ]
  },
  {
   "cell_type": "code",
   "execution_count": 11,
   "metadata": {},
   "outputs": [],
   "source": [
    "student_info = \"\"\"\n",
    "Alexandra Thompson, estudiante de segundo curso de informática de 19 años con un promedio de 3,7,\n",
    "es miembro de los clubes de programación y ajedrez, y en su tiempo libre disfruta de la pizza, la natación y el senderismo.\n",
    "en su tiempo libre con la esperanza de trabajar en una empresa de tecnología después de graduarse en la Universidad de Washington.\n",
    "\"\"\"\n",
    "\n",
    "club_info = \"\"\"\n",
    "El club universitario de ajedrez ofrece a los estudiantes la oportunidad de reunirse y disfrutar jugando\n",
    "el clásico juego de estrategia del ajedrez. Los miembros de todos los niveles son bienvenidos, desde principiantes que aprenden las reglas hasta jugadores de torneos experimentados.\n",
    "desde principiantes que aprenden las reglas hasta jugadores experimentados en torneos. El club suele reunirse varias veces por semana para jugar partidas informales,\n",
    "participar en torneos, analizar partidas de ajedrez famosas y mejorar las habilidades de los miembros.\n",
    "\"\"\"\n",
    "\n",
    "university_info = \"\"\"\n",
    "La Universidad de Washington, fundada en 1861 en Seattle, es una universidad pública de investigación\n",
    "con más de 45.000 estudiantes repartidos en tres campus en Seattle, Tacoma y Bothell.\n",
    "Es el buque insignia de las seis universidades públicas del estado de Washington,\n",
    "UW abarca más de 500 edificios y 20 millones de pies cuadrados de espacio,\n",
    "incluyendo uno de los mayores sistemas bibliotecarios del mundo.\n",
    "\"\"\""
   ]
  },
  {
   "cell_type": "markdown",
   "metadata": {},
   "source": [
    "## Guardar datos\n",
    "\n",
    "A diferencia de otras bases de datos vecotriales, chromaDB genera embeddings automaticamente usando el modelo de all-MiniLM-L6-v2, asi que solo tenemos que pasar los textos"
   ]
  },
  {
   "cell_type": "code",
   "execution_count": 12,
   "metadata": {},
   "outputs": [],
   "source": [
    "collection.add(\n",
    "    documents = [student_info, club_info, university_info],\n",
    "    metadatas = [{\"source\": \"infromacion del estudiante\"},{\"source\": \"informacion del club\"},{'source':'informacion de la universidad'}],\n",
    "    ids = [\"id1\", \"id2\", \"id3\"]\n",
    ")"
   ]
  },
  {
   "cell_type": "markdown",
   "metadata": {},
   "source": [
    "# Query\n",
    "\n",
    "El siguiente es un ejemplo de query en colecciones, de esta forma podemos hacer busquedas sus argumentos son\n",
    "\n",
    "* query_embeddings: Las incrustaciones de las que obtener los vecinos cercanos. Opcional.\n",
    "* query_texts: Los textos del documento para obtener los vecinos cercanos. Opcional.\n",
    "* query_images: Las imágenes para obtener los vecinos cercanos. Opcional.\n",
    "* n_results: El número de vecinos a devolver para cada query_embedding o query_texts. Opcional.\n",
    "* where: Un dict de tipo Where utilizado para filtrar los resultados por. Por ejemplo, {\"$and\": [\"color\" : \"rojo\", \"precio\": {\"$gte\": 4.20}]}. Opcional."
   ]
  },
  {
   "cell_type": "code",
   "execution_count": 17,
   "metadata": {},
   "outputs": [
    {
     "data": {
      "text/plain": [
       "{'ids': [['id1', 'id2']],\n",
       " 'distances': [[0.9922355851517328, 1.3197836039520348]],\n",
       " 'metadatas': [[{'source': 'infromacion del estudiante'},\n",
       "   {'source': 'informacion del club'}]],\n",
       " 'embeddings': None,\n",
       " 'documents': [['\\nAlexandra Thompson, estudiante de segundo curso de informática de 19 años con un promedio de 3,7,\\nes miembro de los clubes de programación y ajedrez, y en su tiempo libre disfruta de la pizza, la natación y el senderismo.\\nen su tiempo libre con la esperanza de trabajar en una empresa de tecnología después de graduarse en la Universidad de Washington.\\n',\n",
       "   '\\nEl club universitario de ajedrez ofrece a los estudiantes la oportunidad de reunirse y disfrutar jugando\\nel clásico juego de estrategia del ajedrez. Los miembros de todos los niveles son bienvenidos, desde principiantes que aprenden las reglas hasta jugadores de torneos experimentados.\\ndesde principiantes que aprenden las reglas hasta jugadores experimentados en torneos. El club suele reunirse varias veces por semana para jugar partidas informales,\\nparticipar en torneos, analizar partidas de ajedrez famosas y mejorar las habilidades de los miembros.\\n']],\n",
       " 'uris': None,\n",
       " 'data': None}"
      ]
     },
     "execution_count": 17,
     "metadata": {},
     "output_type": "execute_result"
    }
   ],
   "source": [
    "results = collection.query(\n",
    "    query_texts=[\"¿Quien es Alexandra Thompson?\"],\n",
    "    n_results=2\n",
    ")\n",
    "\n",
    "results"
   ]
  }
 ],
 "metadata": {
  "kernelspec": {
   "display_name": "base",
   "language": "python",
   "name": "python3"
  },
  "language_info": {
   "codemirror_mode": {
    "name": "ipython",
    "version": 3
   },
   "file_extension": ".py",
   "mimetype": "text/x-python",
   "name": "python",
   "nbconvert_exporter": "python",
   "pygments_lexer": "ipython3",
   "version": "3.11.5"
  }
 },
 "nbformat": 4,
 "nbformat_minor": 2
}
