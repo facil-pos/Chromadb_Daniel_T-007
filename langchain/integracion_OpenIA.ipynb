{
 "cells": [
  {
   "cell_type": "code",
   "execution_count": 13,
   "metadata": {},
   "outputs": [],
   "source": [
    "def print_embeddings_cost(texts):\n",
    "  import tiktoken\n",
    "  enc = tiktoken.encoding_for_model('text-embedding-ada-002')\n",
    "  total_tokens = sum([len(enc.encode(page.page_content)) for page in texts])\n",
    "  print(f'Total Tokens: {total_tokens}')\n",
    "  print(f'Embeddings consto en dolar:  {total_tokens / 1000 * 0.0001:.5f}')"
   ]
  },
  {
   "cell_type": "code",
   "execution_count": 1,
   "metadata": {},
   "outputs": [],
   "source": [
    "from dotenv import load_dotenv\n",
    "import os\n",
    "\n",
    "load_dotenv()\n",
    "\n",
    "openai_api_key=os.getenv('OPENAI_API_KEY', 'YourAPIKey')"
   ]
  },
  {
   "cell_type": "markdown",
   "metadata": {},
   "source": [
    "# Paquetes necesarios"
   ]
  },
  {
   "cell_type": "code",
   "execution_count": 2,
   "metadata": {},
   "outputs": [],
   "source": [
    "from langchain.document_loaders import PyPDFLoader\n",
    "from langchain.text_splitter import CharacterTextSplitter\n",
    "from langchain.embeddings import HuggingFaceEmbeddings\n",
    "from langchain.vectorstores import Chroma"
   ]
  },
  {
   "cell_type": "markdown",
   "metadata": {},
   "source": [
    "# Carga de documentos"
   ]
  },
  {
   "cell_type": "code",
   "execution_count": 3,
   "metadata": {},
   "outputs": [],
   "source": [
    "loader = PyPDFLoader(\".\\Doc\\mtg.pdf\")\n",
    "pages = loader.load_and_split()"
   ]
  },
  {
   "cell_type": "markdown",
   "metadata": {},
   "source": [
    "## Slipt y chucks del documento"
   ]
  },
  {
   "cell_type": "code",
   "execution_count": 29,
   "metadata": {},
   "outputs": [],
   "source": [
    "# Paquetes necesarios\n",
    "from langchain.text_splitter import RecursiveCharacterTextSplitter\n",
    "\n",
    "def create_chunks(doc_to_chunk):\n",
    "    text_splitter = RecursiveCharacterTextSplitter(\n",
    "        chunk_size=800,\n",
    "        chunk_overlap=100,\n",
    "        length_function=len\n",
    "        )\n",
    "    return text_splitter.split_documents(doc_to_chunk)\n",
    "\n",
    "chunks = create_chunks(pages)"
   ]
  },
  {
   "cell_type": "code",
   "execution_count": 30,
   "metadata": {},
   "outputs": [
    {
     "data": {
      "text/plain": [
       "[Document(page_content='Guía de inicio \\nrápidoEdad: 13 o +', metadata={'source': '.\\\\Doc\\\\mtg.pdf', 'page': 0}),\n",
       " Document(page_content='2Bienvenido a Magic: The Gathering, el mejor juego \\nde cartas intercambiables del mundo. Estás a punto \\nde descubrir por qué Magic tiene millones de jugadores \\nen todo el mundo: la profundidad de su estrategia, la \\nbelleza de sus mundos, la fuerza de sus personajes y su \\ncomunidad global.\\nSi ya tienes algunas cartas de Magic, es el momento \\nde sacarlas. Esas cartas representan las \\nherramientas que utilizarás para derrotar a \\ntus oponentes. Con ellas invocarás temibles \\ncriaturas, blandirás objetos y sortilegios \\nmísticos y lanzarás asombrosos hechizos. Las cartas son las piezas básicas del \\njuego y puedes mezclarlas en incontables \\ncombinaciones.\\nHay miles de cartas para elegir, por lo', metadata={'source': '.\\\\Doc\\\\mtg.pdf', 'page': 1}),\n",
       " Document(page_content='juego y puedes mezclarlas en incontables \\ncombinaciones.\\nHay miles de cartas para elegir, por lo \\nque te preguntarás por dónde comenzar. Cada jugador necesita un mazo de al menos 60 cartas; un pack de inicio es una forma ideal de conseguirlo. Estos packs te ofrecen todo cuanto necesitas para empezar a jugar: un mazo de 60 cartas listo para jugar lleno de criaturas, tierras y otros hechizos. También incluye dos sobres de 15 cartas que podrás utilizar para darle al mazo un toque propio.juega \\ncon tu \\nPRESA  \\nIlust. Tyler Jacobson', metadata={'source': '.\\\\Doc\\\\mtg.pdf', 'page': 1}),\n",
       " Document(page_content='Siempre que ganes vidas, puedes \\nponer un contador +1/+1 sobre el Compañero de manada de Ajani.\\n“Cuando uno de nosotros mejora, la \\nmanada mejora”.  \\n—Jazal Melena DoradaCriatura — Soldado felinoCompañero de manada de Ajani\\nSvetlin VelinovU 002/ 2692/2OOo1oW\\n™ & © 2014 Wizards of the Coast SP• M15\\nCuando el Escaramuzador de Kinsbaile entre al campo de batalla, la criatura objetivo obtiene +1/+1 hasta el final del turno.\\n“Si un boggart osa incluso respirar cerca \\nde uno de los míos, lo sabré. Y no estaré feliz”.Criatura — Soldado kithkinEscaramuzador de Kinsbaile\\nThomas DenmarkC 016/ 2692/2OOo1oW\\n™ & © 2014 Wizards of the Coast SP• M15\\nSiempre que lances un hechizo blanco o una llanura entre al campo de batalla bajo tu control, ganas 1 vida.\\nUn símbolo de convicción en tiempos', metadata={'source': '.\\\\Doc\\\\mtg.pdf', 'page': 2}),\n",
       " Document(page_content='Un símbolo de convicción en tiempos \\ninciertos.ArtefactoBastón del mago solar\\nDaniel LjunggrenU 235/ 269Oo3\\nSP• M15™ & © 2014 Wizards of the Coast\\nIntimidar. (Esta criatura no puede \\nser bloqueada excepto por criaturas artefacto y/o criaturas que compartan un color con ella.)\\nLo que le gusta es romper piernas. \\nCobrar la deuda no es más que una bonificación.Criatura — Guerrero trasgoCoaccionador de Krenko\\nKarl KopinskiC 152/ 2692/2OOOo1oRoR\\n™ & © 2014 Wizards of the Coast SP• M15\\nEncantar artefacto.\\nEl artefacto encantado es una criatura \\ncon fuerza y resistencia base 5/5 además \\nde sus otros tipos.\\nCon demasiada frecuencia, algún genio \\nautoproclamado idea un “aparato para \\nahorrar esfuerzos” que acaba por generar \\nmucho más trabajo.Encantamiento — AuraArtefacto animado', metadata={'source': '.\\\\Doc\\\\mtg.pdf', 'page': 2}),\n",
       " Document(page_content='ahorrar esfuerzos” que acaba por generar \\nmucho más trabajo.Encantamiento — AuraArtefacto animado\\nJasper SandnerU 054/ 269OOo1oU\\nSP• M15™ & © 2014 Wizards of the Coast\\nTierra básica — MontañaMontaña\\nNils HammL 264/ 269\\nSP• M15™ & © 2014 Wizards of the Coast\\nTierra básica — IslaIsla\\nAndreas RochaL 257/ 269\\nSP• M15™ & © 2014 Wizards of the Coast\\nTierra básica — MontañaMontaña\\nKarl KopinskiL 265/ 269\\nSP• M15™ & © 2014 Wizards of the Coast\\nTierra básica — MontañaMontaña\\nFlorian de GesincourtL 263/ 269\\nSP• M15™ & © 2014 Wizards of the Coast\\nTierra básica — LlanuraLlanura\\nJohn AvonL 250/ 269\\nSP• M15™ & © 2014 Wizards of the Coast\\nTierra básica — LlanuraLlanura\\nHoward LyonL 252/ 269\\nSP• M15™ & © 2014 Wizards of the Coast\\nVuela. (Esta criatura no puede ser', metadata={'source': '.\\\\Doc\\\\mtg.pdf', 'page': 2}),\n",
       " Document(page_content='Howard LyonL 252/ 269\\nSP• M15™ & © 2014 Wizards of the Coast\\nVuela. (Esta criatura no puede ser \\nbloqueada excepto por criaturas que tengan la habilidad de volar o alcance.)\\nUna vez al año, los cielos sobre Paliano \\nse llenan con las máquinas voladoras de aquellos que esperan que el artífice Muzzio los tome como alumnos.Criatura artefacto — TópteroOrnitóptero\\nFranz VohwinkelC 223/ 2690/2Oo0\\n™ & © 2014 Wizards of the Coast SP• M15\\nTierra básica — PantanoPantano\\nJonas De RoL 260/ 269\\nSP• M15™ & © 2014 Wizards of the Coast\\nTierra básica — PantanoPantano\\nCliff ChildsL 259/ 269\\nSP• M15™ & © 2014 Wizards of the Coast\\nTierra básica — IslaIsla\\nPeter MohrbacherL\\n256/ 269\\nSP•M15™ & © 2014 Wizards of the Coast\\nEl Hacha de lava hace 5 puntos de daño al jugador objetivo.', metadata={'source': '.\\\\Doc\\\\mtg.pdf', 'page': 2}),\n",
       " Document(page_content='SP•M15™ & © 2014 Wizards of the Coast\\nEl Hacha de lava hace 5 puntos de daño al jugador objetivo.\\nUna estricta mejora a la hachuela de \\nceniza.ConjuroHacha de lava\\nBrian SnoddyC 154/ 269OOo4oR\\nSP• M15™ & © 2014 Wizards of the Coast\\nVuela.\\nCuando el Dragón de asedio entre al campo de \\nbatalla, destruye todos los Muros que controlan tus \\noponentes.\\nSiempre que el Dragón de asedio ataque, si el \\njugador defensor no controla ningún Muro, le hace \\n2 puntos de daño a cada criatura sin la habilidad de \\nvolar que controla ese jugador.Criatura — DragónDragón de asedio\\nKarl KopinskiR162/ 269\\n5/5OOOo5oRoR\\n™ & © 2014 Wizards of the CoastSP•M15\\nEncantar criatura.\\nCuando el Favor divino entre al \\ncampo de batalla, ganas 3 vidas.\\nLa criatura encantada obtiene +1/+3.\\nArmado con la luz, hasta el escudero', metadata={'source': '.\\\\Doc\\\\mtg.pdf', 'page': 2}),\n",
       " Document(page_content='La criatura encantada obtiene +1/+3.\\nArmado con la luz, hasta el escudero \\npodría defender a su gente.Encantamiento — AuraFavor divino\\nAllen WilliamsC 010/ 269OOo1oW\\nSP• M15™ & © 2014 Wizards of the Coast\\nLa Campeona se hallaba sola entre la horda de los Resurgidos y el altar a Karametra, matando por veintenas a los cientos de enemigos. Habría sido derrotada de no ser por la ayuda de los guardianes del templo a los que despertó Karametra. —La TheríadaCriatura artefacto — MartaMarta de bronce', metadata={'source': '.\\\\Doc\\\\mtg.pdf', 'page': 2}),\n",
       " Document(page_content='Jasper SandnerC 214/ 269 2/1Oo2\\n™ & © 2014 Wizards of the CoastSP• M15Campo de \\nbatallatú \\n16 vidas\\nrestantes\\nyo\\n18 vidas \\nrestantesCementerio  Biblioteca  \\nBiblioteca  Mano\\nManoCementerio  \\n3Para comenzar el juego, baraja tu mazo, \\ntambién conocido como tu biblioteca. Roba una mano de siete cartas y comprueba cuántas tierras tienes. Puedes mirar la línea de texto que hay bajo la ilustración de cada carta para ver de qué tipo de carta se trata. Para este primer juego, si no tienes al menos dos tierras, baraja de nuevo tu mazo (incluyendo tu mano anterior) y roba una mano nueva.\\nCada jugador comienza con 20 vidas, \\ny cada uno debe llevar la cuenta de su total de vidas de alguna manera (con un dado, lápiz y papel...). ¡Reduce el total de vidas de tu oponente a 0 y ganarás el juego!Comenzar', metadata={'source': '.\\\\Doc\\\\mtg.pdf', 'page': 2}),\n",
       " Document(page_content='Tierra básica — BosqueBosque\\nJonas De RoL269/ 269\\nSP• M15™ & © 2014 Wizards of the Coast\\nLlanura oW (blanco)\\nIsla oU (azul)\\nPantano oB (negro)\\nMontaña oR (rojo)\\nBosque oG (verde)Maná que produce\\n Tipo de tierra básica\\n4Tu mazo incluye tierras y criaturas, ¡pero también puede incluir conjuros, instantáneos, artefactos, \\nencantamientos y planeswalkers! En las próximas páginas echaremos un vistazo a los distintos tipos de cartas y a la manera de utilizarlos.\\nLas cartas de tierra son los cimientos de todo mazo efectivo de \\nMagic. Las tierras proporcionan maná, la energía mágica que \\nnecesitas para lanzar todas las demás cartas de tu mazo. Puedes \\njugar una tierra durante la fase principal de cada uno de tus turnos.', metadata={'source': '.\\\\Doc\\\\mtg.pdf', 'page': 3}),\n",
       " Document(page_content='jugar una tierra durante la fase principal de cada uno de tus turnos. \\nLas tierras permanecen en el campo de batalla delante de ti y se enderezan (se restablecen) al comienzo de cada uno de tus turnos \\npara que puedas utilizarlas de nuevo.\\nHay cinco tipos de tierra básica; cada uno corresponde a uno de \\nlos cinco colores de la magia. Cada color tiene sus puntos fuertes y \\ndébiles, que irás conociendo a medida que juegues.\\nNo todas las tierras son tierras básicas. Algunas tierras no básicas \\nse giran para obtener varios colores de maná, mientras que otras lo hacen para producir maná incoloro (o1, o2, etc.), pero tienen \\nhabilidades únicas.Tipos de cartas \\nTierras', metadata={'source': '.\\\\Doc\\\\mtg.pdf', 'page': 3}),\n",
       " Document(page_content='oT: Agrega \\noG a tu reserva de maná.“La vida crece en todas partes. Mi gente \\nsolamente encuentra aquellos lugares en los que crece con más fuerza”.\\n —Nissa RevaneCriatura — Druida elfoMístico élfico\\nWesley BurtC173/ 269\\n1/1OoG\\n™ & © 2014 Wizards of the CoastSP•M15\\nLa Descarga de rayos hace 3 puntos \\nde daño a la criatura o jugador objetivo.\\nBlandir el rayo es domar el caos.InstantáneoDescarga de rayos\\nAdam PaquetteC155/ 269OOo1oR\\nSP•M15\\n™ & © 2014 Wizards of the Coast\\nRoba dos cartas.\\n“La llave para desentrañar este misterio \\nestá dentro de ti. ”\\n —Doriel, mentor de la Isla MistralConjuroAdivinación\\nHoward LyonC052\\n/ 269OOo2oU\\nSP•M15\\n™ & © 2014 Wizards of the Coast\\nEncantar criatura.\\nCuando el Favor divino entre al \\ncampo de batalla, ganas 3 vidas.\\nLa criatura encantada obtiene +1/+3.', metadata={'source': '.\\\\Doc\\\\mtg.pdf', 'page': 4}),\n",
       " Document(page_content='campo de batalla, ganas 3 vidas.\\nLa criatura encantada obtiene +1/+3.\\nArmado con la luz, hasta el escudero \\npodría defender a su gente.Encantamiento — AuraFavor divino\\nAllen WilliamsC\\n010/ 269OOo1oW\\nSP•\\nM15™ & © 2014 Wizards of the Coast\\n:::\\n-8-2+1\\nPon en el campo de batalla bajo tu control \\ntodas las cartas de criatura de todos los cementerios.Busca en tu biblioteca una carta, luego \\nbaraja tu biblioteca y pon esa carta en la parte superior.El jugador objetivo descarta una carta.Planeswalker — LilianaLiliana Vess\\nAleksi BriclotM\\n103/ 2695OOOo3oBoB\\n™ & © 2014 Wizards of the Coast\\nSP•M15\\nCuando el Meteorito entre al campo \\nde batalla, hace 2 puntos de daño a la criatura o jugador objetivo.\\noT: Agrega un maná de cualquier \\ncolor a tu reserva de maná.', metadata={'source': '.\\\\Doc\\\\mtg.pdf', 'page': 4}),\n",
       " Document(page_content='oT: Agrega un maná de cualquier \\ncolor a tu reserva de maná.\\n“Y si miento… ”, comenzó a decir.ArtefactoMeteorito\\nScott MurphyU\\n221/ 269Oo5\\nSP•M15™ & © 2014 Wizards of the Coast\\n5Cualquier carta que no sea una tierra puede lanzarse como un hechizo. Algunos \\ntipos de hechizos se ponen en el campo de batalla y se convierten en “permanentes” . Los demás producen su efecto y luego van a tu cementerio (montón de descarte).\\nCriaturas  \\nLas criaturas son permanentes que representan a tus siervos. Durante \\nel combate, pueden atacar a tus oponentes y defenderte de sus ataques. Puedes lanzar hechizos de criatura durante tu fase principal.\\nConjuros e instantáneos\\nLos hechizos de conjuro y de instantáneo representan \\npoderosos sortilegios que pueden tener una amplia variedad de efectos. En', metadata={'source': '.\\\\Doc\\\\mtg.pdf', 'page': 4}),\n",
       " Document(page_content='poderosos sortilegios que pueden tener una amplia variedad de efectos. En \\ncuanto esos efectos suceden, estos hechizos van a tu cementerio. Solo puedes lanzar un conjuro durante tu fase principal, en el mismo momento en que lanzas criaturas y otros hechizos permanentes. Sin embargo, puedes lanzar un instantáneo casi en cualquier momento: durante el turno de otro jugador. . .  ¡o incluso en respuesta a otro hechizo!Artefactos y encantamientos\\nLos artefactos y los encantamientos son \\npermanentes que representan objetos mágicos y manifestaciones \\nmágicas estables. La mayoría de artefactos son incoloros, lo que \\nsignifica que no es necesario un color específico de maná para \\nlanzarlos. Algunos artefactos son también criaturas. Puedes lanzar', metadata={'source': '.\\\\Doc\\\\mtg.pdf', 'page': 4}),\n",
       " Document(page_content='lanzarlos. Algunos artefactos son también criaturas. Puedes lanzar \\nhechizos de artefacto y de encantamiento durante tu fase principal.\\nPlaneswalkers  \\nLos planeswalkers son poderosos aliados que puedes llamar para \\nque luchen a tu lado. Para saber más acerca de los planeswalkers, visita \\nWizards.com/PlaneswalkerRules.Hechizos', metadata={'source': '.\\\\Doc\\\\mtg.pdf', 'page': 4}),\n",
       " Document(page_content='Tierra básica — BosqueBosque\\nJonas De RoL 269/ 269\\nSP• M15™ & © 2014 Wizards of the Coast\\nTierra básica — MontañaMontaña\\nFlorian de GesincourtL 263/ 269\\nSP• M15™ & © 2014 Wizards of the Coast\\nTierra básica — MontañaMontaña\\nFlorian de GesincourtL 263/ 269\\nSP• M15™ & © 2014 Wizards of the Coast\\nTierra básica — BosqueBosque\\nJonas De RoL 269/ 269\\nSP• M15™ & © 2014 Wizards of the Coast\\nTierra básica — MontañaMontaña\\nKarl KopinskiL 265/ 269\\nSP• M15™ & © 2014 Wizards of the Coast\\nTierra básica — MontañaMontaña\\nNils HammL 264/ 269\\nSP• M15™ & © 2014 Wizards of the Coast\\nTierra básica — MontañaMontaña\\nFlorian de GesincourtL 263/ 269\\nSP• M15™ & © 2014 Wizards of the Coast\\nTierra básica — MontañaMontaña\\nFlorian de GesincourtL 263/ 269\\nSP• M15™ & © 2014 Wizards of the Coast\\nTierra básica — BosqueBosque', metadata={'source': '.\\\\Doc\\\\mtg.pdf', 'page': 5}),\n",
       " Document(page_content='Florian de GesincourtL 263/ 269\\nSP• M15™ & © 2014 Wizards of the Coast\\nTierra básica — BosqueBosque\\nJonas De RoL 269/ 269\\nSP• M15™ & © 2014 Wizards of the Coast\\nTierra básica — MontañaMontaña\\nKarl KopinskiL 265/ 269\\nSP• M15™ & © 2014 Wizards of the Coast\\nTierra básica — MontañaMontaña\\nNils HammL 264/ 269\\nSP• M15™ & © 2014 Wizards of the Coast\\nTierra básica — BosqueBosque\\nJonas De RoL 269/ 269\\nSP• M15™ & © 2014 Wizards of the Coast\\nVuela. (Esta criatura no puede ser \\nbloqueada excepto por criaturas que \\ntengan la habilidad de volar o alcance.)\\noR: El Dragón shivano obtiene +1/+0 \\nhasta el final del turno.\\nEs el señor indisputable de las montañas \\nde Shiv.Criatura — DragónDragón shivano\\nDonato GiancolaR281/ 2695/5OOOo4oRoR\\n™ & © 2014 Wizards of the Coast\\nSP•M15', metadata={'source': '.\\\\Doc\\\\mtg.pdf', 'page': 5}),\n",
       " Document(page_content='Donato GiancolaR281/ 2695/5OOOo4oRoR\\n™ & © 2014 Wizards of the Coast\\nSP•M15\\nVuela. (Esta criatura no puede ser \\nbloqueada excepto por criaturas que \\ntengan la habilidad de volar o alcance.)\\noR: El Dragón shivano obtiene +1/+0 \\nhasta el final del turno.\\nEs el señor indisputable de las montañas \\nde Shiv.Criatura — DragónDragón shivano\\nDonato GiancolaR281/ 2695/5OOOo4oRoR\\n™ & © 2014 Wizards of the Coast\\nSP•M156Cuando quieras pagar un coste de maná, gira (pon de lado) las cartas necesarias', metadata={'source': '.\\\\Doc\\\\mtg.pdf', 'page': 5}),\n",
       " Document(page_content='SP•M156Cuando quieras pagar un coste de maná, gira (pon de lado) las cartas necesarias \\ndel campo de batalla. Esto muestra que has utilizado esas tierras para producir maná. Las cartas giradas se enderezan al comienzo de cada uno de tus turnos, por lo que estarán listas para utilizarlas de nuevo. Para lanzar el Dragón shivano debes girar dos montañas, que producirán manás rojos, y cuatro tierras más. Esas cuatro tierras pueden ser montañas, bosques o cualquier otra combinación de tierras.Lanzar hechizos\\nTodas las cartas (excepto las de tierra) tienen un coste de maná en la esquina superior derecha. El coste está formado por símbolos que te indican qué clase de maná has de gastar para lanzar ese hechizo. \\nDebes pagar manás por cada uno de esos', metadata={'source': '.\\\\Doc\\\\mtg.pdf', 'page': 5}),\n",
       " Document(page_content='Debes pagar manás por cada uno de esos \\nsímbolos para poder lanzar el Dragón shivano. El símbolo oR significa un maná rojo. El símbolo o4 significa cuatro manás de cualquier tipo. Por lo tanto, debes pagar dos manás rojos y cuatro manás de cualquier tipo para pagar su coste.\\nIlust. Winona Nelson', metadata={'source': '.\\\\Doc\\\\mtg.pdf', 'page': 5}),\n",
       " Document(page_content='Vuela. (Esta criatura no puede ser \\nbloqueada excepto por criaturas que \\ntengan la habilidad de volar o alcance.)\\noR: El Dragón shivano obtiene +1/+0 \\nhasta el final del turno.\\nEs el señor indisputable de las montañas \\nde Shiv.Criatura — DragónDragón shivano\\nDonato GiancolaR 281/ 2695/5OOOo4oRoR\\n™ & © 2014 Wizards of the Coast SP• M15\\n7Partes de una carta\\nLos hechizos tienen un coste de \\nmaná que te indica cuánto maná necesitas para lanzarlos.', metadata={'source': '.\\\\Doc\\\\mtg.pdf', 'page': 6}),\n",
       " Document(page_content='Los hechizos tienen un coste de \\nmaná que te indica cuánto maná necesitas para lanzarlos.\\nEsta línea te indica el tipo al que pertenece la carta; por ejemplo, criatura o tierra. Las criaturas tienen además uno o más tipos de criatura, que aparecen tras un guion largo y te indican de qué clase de criatura se trata.Las habilidades de una carta aparecen en su recuadro de texto. Algunas habilidades tienen un texto recordatorio entre paréntesis que ayuda a explicar lo que hacen. Además, una carta puede tener impreso un texto de ambientación en cursiva que te cuenta algo acerca del mundo de Magic. El texto de ambientación no tiene ningún efecto en el juego.\\nLas criaturas tienen dos números', metadata={'source': '.\\\\Doc\\\\mtg.pdf', 'page': 6}),\n",
       " Document(page_content='Las criaturas tienen dos números \\nen la esquina inferior derecha. El primero es la fuerza, que indica cuánto daño hace esa criatura en combate. El segundo número es la resistencia. Si una criatura recibe esa cantidad de daño o más en un mismo turno, es destruida y va al cementerio de su propietario (el montón de descarte).Cada colección de Magic tiene un \\nsímbolo propio. El color del símbolo te indica la rareza de la carta: negro para las comunes, plateado para las poco comunes, dorado para las raras y rojo anaranjado para las raras míticas.', metadata={'source': '.\\\\Doc\\\\mtg.pdf', 'page': 6}),\n",
       " Document(page_content='Jugador atacante\\nJugador defensor\\nLa magia de los elfos deja su marca en \\nel bosque. La magia del bosque deja su \\nmarca en los animales que lo habitan. \\nLos animales del bosque dejan su marca \\nen todo aquel que lo invade.Criatura — OsoOso garra de runas\\nJesper EjsingC 197/ 2692/2OOo1oG\\n™ & © 2014 Wizards of the Coast SP• M15\\n2/24/3 2/1\\nPrisa. (Esta criatura puede atacar y oT \\ntan pronto como entra bajo tu control.)\\nSe sintió al gigante varios segundos \\nantes de que se lo viera.Criatura — GiganteGigante descomunal\\nMark ZugC 165/ 2694/3OOOo3oRoR\\n™ & © 2014 Wizards of the Coast SP• M15\\nPrisa. (Esta criatura puede atacar y oT \\ntan pronto como entra bajo tu control.)\\nSe sintió al gigante varios segundos \\nantes de que se lo viera.Criatura — GiganteGigante descomunal', metadata={'source': '.\\\\Doc\\\\mtg.pdf', 'page': 7}),\n",
       " Document(page_content='Se sintió al gigante varios segundos \\nantes de que se lo viera.Criatura — GiganteGigante descomunal\\nMark ZugC 165/ 2694/3OOOo3oRoR\\n™ & © 2014 Wizards of the Coast SP• M15\\noR, sacrificar el Demonio de la \\nantorcha: Destruye el artefacto \\nobjetivo.\\nLos diablos redecoran cada habitación \\ncon fuego.Criatura — DiabloDemonio de la antorcha\\nWinona NelsonC 166/ 2692/1OOo1oR\\n™ & © 2014 Wizards of the Coast SP• M15\\noR, sacrificar el Demonio de la \\nantorcha: Destruye el artefacto objetivo.\\nLos diablos redecoran cada habitación \\ncon fuego.Criatura — DiabloDemonio de la antorcha\\nWinona NelsonC 166/ 2692/1OOo1oR\\n™ & © 2014 Wizards of the Coast SP• M15\\n8El juego se gana reduciendo el total de vidas de tu oponente a 0. La forma más habitual de', metadata={'source': '.\\\\Doc\\\\mtg.pdf', 'page': 7}),\n",
       " Document(page_content='8El juego se gana reduciendo el total de vidas de tu oponente a 0. La forma más habitual de \\nhacerlo es atacar a tu oponente con criaturas durante el combate. \\nDurante tu turno, decides si alguna de tus criaturas atacará y cuáles serán. No puedes atacar con una \\ncriatura si está girada o si entró al campo de batalla este turno. Tienes una sola fase de combate en mitad de tu turno, y todas las criaturas con las que decidas atacar lo harán al mismo tiempo.\\nUna vez que hayas decidido qué criaturas atacarán, gira esas criaturas. Tus criaturas giradas, al igual \\nque tus tierras giradas, se enderezarán al comienzo de tu próximo turno.\\nEn la mayoría de ocasiones, tus criaturas atacarán a tu oponente. En otras, también pueden atacar a', metadata={'source': '.\\\\Doc\\\\mtg.pdf', 'page': 7}),\n",
       " Document(page_content='planeswalkers. Sin embargo, las criaturas nunca atacan a otras criaturas. Tú solo las envías para que crucen el campo de batalla y tu oponente decide lo que ocurre después.\\nAhora imagina que estás al otro lado del campo de batalla. Tu oponente te ha atacado con algunas \\nde sus criaturas. Si controlas alguna criatura enderezada, puedes utilizarla para bloquear. Bloquear no causa que se giren las criaturas. Cada criatura bloqueadora puede bloquear a una única criatura atacante. También puedes hacer que varias criaturas bloqueen a una misma criatura atacante; en ese caso, el jugador atacante decide qué cantidad de daño hace la criatura atacante a cada una de las bloqueadoras.Combate\\nAtacar y bloquear', metadata={'source': '.\\\\Doc\\\\mtg.pdf', 'page': 7}),\n",
       " Document(page_content='A\\nLa magia de los elfos deja su marca en \\nel bosque. La magia del bosque deja su \\nmarca en los animales que lo habitan. \\nLos animales del bosque dejan su marca \\nen todo aquel que lo invade.Criatura — OsoOso garra de runas\\nJesper EjsingC 197/ 2692/2OOo1oG\\n™ & © 2014 Wizards of the Coast SP• M15Jugador atacante\\nJugador defensor\\n4 2\\nPrisa. (Esta criatura puede atacar y oT \\ntan pronto como entra bajo tu control.)\\nSe sintió al gigante varios segundos \\nantes de que se lo viera.Criatura — GiganteGigante descomunal\\nMark ZugC 165/ 2694/3OOOo3oRoR\\n™ & © 2014 Wizards of the Coast SP• M15\\nPrisa. (Esta criatura puede atacar y oT \\ntan pronto como entra bajo tu control.)\\nSe sintió al gigante varios segundos \\nantes de que se lo viera.Criatura — GiganteGigante descomunal\\nMark ZugC 165/ 2694/3OOOo3oRoR', metadata={'source': '.\\\\Doc\\\\mtg.pdf', 'page': 8}),\n",
       " Document(page_content='antes de que se lo viera.Criatura — GiganteGigante descomunal\\nMark ZugC 165/ 2694/3OOOo3oRoR\\n™ & © 2014 Wizards of the Coast SP• M15\\noR, sacrificar el Demonio de la \\nantorcha: Destruye el artefacto \\nobjetivo.\\nLos diablos redecoran cada habitación \\ncon fuego.Criatura — DiabloDemonio de la antorcha\\nWinona NelsonC 166/ 2692/1OOo1oR\\n™ & © 2014 Wizards of the Coast SP• M15\\noR, sacrificar el Demonio de la \\nantorcha: Destruye el artefacto objetivo.\\nLos diablos redecoran cada habitación \\ncon fuego.Criatura — DiabloDemonio de la antorcha\\nWinona NelsonC 166/ 2692/1OOo1oR\\n™ & © 2014 Wizards of the Coast SP• M15\\nC\\nPrisa. (Esta criatura puede atacar y oT \\ntan pronto como entra bajo tu control.)\\nSe sintió al gigante varios segundos \\nantes de que se lo viera.Criatura — GiganteGigante descomunal', metadata={'source': '.\\\\Doc\\\\mtg.pdf', 'page': 8}),\n",
       " Document(page_content='Se sintió al gigante varios segundos \\nantes de que se lo viera.Criatura — GiganteGigante descomunal\\nMark ZugC 165/ 2694/3OOOo3oRoR\\n™ & © 2014 Wizards of the Coast SP• M15\\nPrisa. (Esta criatura puede atacar y oT \\ntan pronto como entra bajo tu control.)\\nSe sintió al gigante varios segundos \\nantes de que se lo viera.Criatura — GiganteGigante descomunal\\nMark ZugC 165/ 2694/3OOOo3oRoR\\n™ & © 2014 Wizards of the Coast SP• M15\\noR, sacrificar el Demonio de la \\nantorcha: Destruye el artefacto \\nobjetivo.\\nLos diablos redecoran cada habitación \\ncon fuego.Criatura — DiabloDemonio de la antorcha\\nWinona NelsonC 166/ 2692/1OOo1oR\\n™ & © 2014 Wizards of the Coast SP• M15\\noR, sacrificar el Demonio de la \\nantorcha: Destruye el artefacto objetivo.\\nLos diablos redecoran cada habitación', metadata={'source': '.\\\\Doc\\\\mtg.pdf', 'page': 8}),\n",
       " Document(page_content='antorcha: Destruye el artefacto objetivo.\\nLos diablos redecoran cada habitación \\ncon fuego.Criatura — DiabloDemonio de la antorcha\\nWinona NelsonC 166/ 2692/1OOo1oR\\n™ & © 2014 Wizards of the Coast SP• M15\\nJugador atacante\\nJugador defensor\\n4\\nLa magia de los elfos deja su marca en \\nel bosque. La magia del bosque deja su \\nmarca en los animales que lo habitan. \\nLos animales del bosque dejan su marca \\nen todo aquel que lo invade.Criatura — OsoOso garra de runas\\nJesper EjsingC 197/ 2692/2OOo1oG\\n™ & © 2014 Wizards of the Coast SP• M152\\n2\\nB\\nPrisa. (Esta criatura puede atacar y oT \\ntan pronto como entra bajo tu control.)\\nSe sintió al gigante varios segundos \\nantes de que se lo viera.Criatura — GiganteGigante descomunal\\nMark ZugC 165/ 2694/3OOOo3oRoR\\n™ & © 2014 Wizards of the Coast SP• M15', metadata={'source': '.\\\\Doc\\\\mtg.pdf', 'page': 8}),\n",
       " Document(page_content='Mark ZugC 165/ 2694/3OOOo3oRoR\\n™ & © 2014 Wizards of the Coast SP• M15\\nPrisa. (Esta criatura puede atacar y oT \\ntan pronto como entra bajo tu control.)\\nSe sintió al gigante varios segundos \\nantes de que se lo viera.Criatura — GiganteGigante descomunal\\nMark ZugC 165/ 2694/3OOOo3oRoR\\n™ & © 2014 Wizards of the Coast SP• M15\\noR, sacrificar el Demonio de la \\nantorcha: Destruye el artefacto \\nobjetivo.\\nLos diablos redecoran cada habitación \\ncon fuego.Criatura — DiabloDemonio de la antorcha\\nWinona NelsonC 166/ 2692/1OOo1oR\\n™ & © 2014 Wizards of the Coast SP• M15\\noR, sacrificar el Demonio de la \\nantorcha: Destruye el artefacto objetivo.\\nLos diablos redecoran cada habitación \\ncon fuego.Criatura — DiabloDemonio de la antorcha\\nWinona NelsonC 166/ 2692/1OOo1oR', metadata={'source': '.\\\\Doc\\\\mtg.pdf', 'page': 8}),\n",
       " Document(page_content='con fuego.Criatura — DiabloDemonio de la antorcha\\nWinona NelsonC 166/ 2692/1OOo1oR\\n™ & © 2014 Wizards of the Coast SP• M15Jugador atacante\\nJugador defensor\\n2\\nLa magia de los elfos deja su marca en \\nel bosque. La magia del bosque deja su \\nmarca en los animales que lo habitan. \\nLos animales del bosque dejan su marca \\nen todo aquel que lo invade.Criatura — OsoOso garra de runas\\nJesper EjsingC 197/ 2692/2OOo1oG\\n™ & © 2014 Wizards of the Coast SP• M152\\n4\\n9En los siguientes ejemplos de combate, tu oponente te ha', metadata={'source': '.\\\\Doc\\\\mtg.pdf', 'page': 8}),\n",
       " Document(page_content='en todo aquel que lo invade.Criatura — OsoOso garra de runas\\nJesper EjsingC 197/ 2692/2OOo1oG\\n™ & © 2014 Wizards of the Coast SP• M152\\n4\\n9En los siguientes ejemplos de combate, tu oponente te ha \\natacado con un Gigante descomunal (4/3) y un Demonio de la antorcha (2/1). Tu única criatura enderezada es un Oso garra de runas (2/2). ¿Qué vas a bloquear?Ejemplo de combate\\nOpción A: No bloqueas\\nLas criaturas atacantes no bloqueadas hacen una cantidad de daño igual a su fuerza al oponente. En este caso, esas criaturas te harán un total de 6 puntos de daño, lo que significa que pierdes 6 vidas. Puedes elegir no bloquear si tu total de vidas es alto y si quieres reservar a tu criatura para un contraataque.\\nOpción B: \\nBloquear al Gigante descomunal', metadata={'source': '.\\\\Doc\\\\mtg.pdf', 'page': 8}),\n",
       " Document(page_content='Opción B: \\nBloquear al Gigante descomunal\\nTu Oso garra de runas hace 2 puntos de daño al Gigante \\ndescomunal. El Gigante tiene una resistencia de 3 y, por lo tanto, sobrevive. Ese daño se curará al final del turno. El Gigante descomunal hace 4 puntos de daño al Oso garra de runas, de resistencia 2, por lo que este es destruido (va a tu cementerio). El Demonio de la antorcha no bloqueado te hace 2 puntos de daño. No has destruido ninguna de las criaturas de tu oponente, pero puedes bloquear de esta manera si tu total de vidas es bajo.\\nOpción C: Bloquear al Demonio de la \\nantorcha\\nTu Oso garra de runas hace 2 puntos de daño al Demonio', metadata={'source': '.\\\\Doc\\\\mtg.pdf', 'page': 8}),\n",
       " Document(page_content='antorcha\\nTu Oso garra de runas hace 2 puntos de daño al Demonio \\nde la antorcha, de resistencia 1, y el Demonio de la antorcha hace 2 puntos de daño a tu Oso garra de runas. Ambas criaturas son destruidas. El Gigante descomunal no bloqueado te hace 4 puntos de daño. Puedes bloquear de esta manera si quieres destruir una de las criaturas de tu oponente y no te importa recibir algo de daño.\\nIlust. Chris Rahn', metadata={'source': '.\\\\Doc\\\\mtg.pdf', 'page': 8}),\n",
       " Document(page_content='La criatura objetivo obtiene +4/+4 \\nhasta el final del turno.\\nLo gigantesco domina mediante la \\nfuerza. Lo minúsculo sobrevive gracias a la astucia. No te fíes de algo minúsculo que ha llegado a ser gigantesco.InstantáneoCrecimiento titánico\\nRyan PancoastC\\n203/ 269OOo1oG\\nSP•M15™ & © 2014 Wizards of the Coast\\nLa Descarga de rayos hace 3 puntos \\nde daño a la criatura o jugador objetivo.\\nBlandir el rayo es domar el caos.InstantáneoDescarga de rayos\\nAdam PaquetteC155/ 269OOo1oR\\nSP•M15\\n™ & © 2014 Wizards of the Coast\\nLa magia de los elfos deja su marca en \\nel bosque. La magia del bosque deja su marca en los animales que lo habitan. Los animales del bosque dejan su marca en todo aquel que lo invade.Criatura — OsoOso garra de runas\\nJesper EjsingC197/ 2692/2OOo1oG', metadata={'source': '.\\\\Doc\\\\mtg.pdf', 'page': 9}),\n",
       " Document(page_content='Jesper EjsingC197/ 2692/2OOo1oG\\n™ & © 2014 Wizards of the CoastSP• M15\\n10Cuando lanzas un hechizo, no se resuelve (produce su \\nefecto) de inmediato. Debe esperar en la pila. Cada jugador, incluyéndote a ti, tiene ahora una oportunidad para lanzar un instantáneo o activar una habilidad en respuesta. Si un jugador lo hace, ese instantáneo o habilidad va a la pila sobre el otro que ya está esperando allí. Cuando todos los jugadores deciden no hacer nada más, el último hechizo o habilidad agregado a la pila se resuelve.\\nPor ejemplo, digamos que tienes un Oso garra de runas 2/2 \\nen el campo de batalla. En tu mano tienes un Crecimiento titánico, y tu oponente, una Descarga de rayos. \\nSi tú lanzas el Crecimiento titánico primero, tu oponente', metadata={'source': '.\\\\Doc\\\\mtg.pdf', 'page': 9}),\n",
       " Document(page_content='Si tú lanzas el Crecimiento titánico primero, tu oponente \\npuede responder y lanzar la Descarga de rayos. La Descarga de rayos quedará encima del Crecimiento titánico, por lo que se resolverá primero. La Descarga de rayos hará 3 puntos de daño al Oso garra de runas, lo cual es suficiente para destruirlo. El Oso garra de runas va a tu cementerio. Cuando el Crecimiento titánico intenta resolverse, su objetivo ya no está, por lo que no tendrá ningún efecto e irá a tu cementerio.\\nPor otro lado, si tu oponente lanza la Descarga de rayos', metadata={'source': '.\\\\Doc\\\\mtg.pdf', 'page': 9}),\n",
       " Document(page_content='Por otro lado, si tu oponente lanza la Descarga de rayos \\nprimero, tú puedes responder con el Crecimiento titánico. El Crecimiento titánico se resolverá primero y convertirá a tu Oso garra de runas en una criatura 6/6. Después, la Descarga de rayos se resolverá y le hará 3 puntos de daño, ¡pero ya no será suficiente para destruir al Oso, que de repente se ha vuelto enorme!Responder y la pila', metadata={'source': '.\\\\Doc\\\\mtg.pdf', 'page': 9}),\n",
       " Document(page_content='11Puedes probar toda una variedad de mazos en Magic 2015 — Duels of the Planeswalkers, el juego digital \\nganador de varios premios que te permite jugar a Magic en Xbox One, Xbox Live Arcade, iPad, Steam, Android y Amazon. Aprende estrategias a lo largo de una emocionante campaña para un jugador por todo el Multiverso o juega online contra oponentes de todo el mundo.  Visita DuelsofthePlaneswalkers.com para obtener la versión de prueba gratuita.\\nEncontrarás un enlace a esta guía de inicio rápido y más información acerca de las reglas en Magic.\\nWizards.com/QuickStart.\\nY cuando estés listo para descubrir la comunidad global de jugadores, torneos y eventos especiales de \\nMagic, visita Wizards.com/Locator para encontrar una tienda cerca de ti.El siguiente paso', metadata={'source': '.\\\\Doc\\\\mtg.pdf', 'page': 10}),\n",
       " Document(page_content='12Glosario \\nIlust. Chase Stone', metadata={'source': '.\\\\Doc\\\\mtg.pdf', 'page': 11}),\n",
       " Document(page_content='13oT: este símbolo significa “gira esta carta” . Aparece \\nsolo como un coste para activar una habilidad.\\n+1/+1 : bonificación que se aplica a una criatura \\ny que le da +1 a su fuerza y +1 a su resistencia. \\nEstos números pueden ser cualquier valor, incluidos números negativos.\\nalcance : una criatura con la habilidad de alcance \\npuede bloquear a criaturas con la habilidad de volar (y a criaturas sin ella).\\nantimaleficio : una criatura con antimaleficio no \\npuede ser objetivo de los hechizos o habilidades que controla tu oponente, incluyendo hechizos de aura. Sin embargo, sí puede ser objetivo de tus hechizos y habilidades.\\narrollar : si una criatura que arrolla fuera a', metadata={'source': '.\\\\Doc\\\\mtg.pdf', 'page': 12}),\n",
       " Document(page_content='arrollar : si una criatura que arrolla fuera a \\nasignar suficiente daño a sus bloqueadores como para destruirlos, puedes hacer que le asigne el resto del daño al jugador o planeswalker al que está atacando.\\ncontador sobre una carta : a veces se colocan \\ncontadores sobre una carta para llevar registro de algo. Muchos son contadores +1/+1, que le dan a una criatura +1 de fuerza y +1 de resistencia. Puedes utilizar cualquier objeto pequeño para representar un contador.\\ncontrarrestar un hechizo : si una carta \\ncontrarresta un hechizo, puedes lanzarla en respuesta a un hechizo que tu oponente esté lanzando. El hechizo contrarrestado no tiene efecto y va al cementerio.\\ncontrol : tú controlas las criaturas y otros', metadata={'source': '.\\\\Doc\\\\mtg.pdf', 'page': 12}),\n",
       " Document(page_content='control : tú controlas las criaturas y otros \\npermanentes que tengas en el campo de batalla, a menos que tu oponente use un hechizo o habilidad para ganar el control de uno de tus permanentes. En ese caso, tu oponente puede usarlo y tú no. Cuando deja el campo de batalla o el juego termina, lo recuperas.\\ndañar dos veces : una criatura con la habilidad \\nde dañar dos veces hace daño dos veces en cada combate: una antes que las criaturas sin la habilidad de dañar primero o de dañar dos veces y luego de nuevo cuando las criaturas hacen daño normalmente.\\ndañar primero : una criatura con la habilidad de \\ndañar primero hace su daño en combate antes que las criaturas sin la habilidad de dañar primero.\\ndaño : las criaturas hacen una cantidad de daño', metadata={'source': '.\\\\Doc\\\\mtg.pdf', 'page': 12}),\n",
       " Document(page_content='daño : las criaturas hacen una cantidad de daño \\nigual a su fuerza durante el combate. Algunos hechizos también pueden hacer daño a criaturas y jugadores. El daño hecho a un jugador hace que ese jugador pierda esa misma cantidad de vidas. Las criaturas que reciben una cantidad de daño igual o mayor que su resistencia en un mismo turno son destruidas. Las criaturas dañadas que están en el campo de batalla se curan al finalizar cada turno.\\ndefensor : una criatura con la habilidad de \\ndefensor no puede atacar.\\ndescartar : para descartar una carta, elige una \\ncarta de tu mano y ponla en tu cementerio.\\ndestello : puedes lanzar un hechizo con la \\nhabilidad de destello en cualquier momento en que pudieras lanzar un instantáneo, incluso en respuesta a otros hechizos.', metadata={'source': '.\\\\Doc\\\\mtg.pdf', 'page': 12}),\n",
       " Document(page_content='destruir : un permanente que es destruido \\nva al cementerio. Las criaturas que reciben una cantidad de daño al menos igual que su resistencia en un mismo turno son destruidas. Algunos hechizos y habilidades también pueden destruir permanentes.\\nencantar : un aura es un encantamiento que \\nencanta (se anexa) a otra carta del campo de batalla. Por ejemplo, lanzas un aura con “encantar criatura” para anexarla a cualquier criatura en el campo de batalla. Si esa criatura deja el campo de batalla, el aura se pone en el cementerio.\\nenderezar : endereza una carta girada \\nponiéndola al derecho. Cuando enderezas tus permanentes al principio de tu turno, quiere decir que puedes usarlos (girarlos) nuevamente.', metadata={'source': '.\\\\Doc\\\\mtg.pdf', 'page': 12}),\n",
       " Document(page_content='14equipar : si tienes una carta de equipo en el \\ncampo de batalla, puedes pagar su habilidad de \\nequipar para anexarla a una de tus criaturas en el campo de batalla. Si la criatura equipada deja el campo de batalla, la carta de equipo permanece.\\nexiliar : si una habilidad exilia una carta, esta \\ncarta se remueve del campo de batalla y se pone aparte. Una carta exiliada no es un permanente (porque no está en el campo de batalla) y no está en el cementerio. La carta permanece exiliada hasta que el juego termine o hasta que vaya a una zona del juego distinta.\\nficha : algunas cartas crean fichas de criatura. \\nPuedes usar las cartas de ficha que se hallan en los sobres, cuentas de vidrio, dados o lo que quieras para representarlas.\\ngirar : girar una carta es ponerla de lado. Esto se', metadata={'source': '.\\\\Doc\\\\mtg.pdf', 'page': 13}),\n",
       " Document(page_content='girar : girar una carta es ponerla de lado. Esto se \\nhace cuando usas una tierra para producir maná, cuando atacas con una criatura o cuando activas una habilidad que tiene el símbolo \\noT como \\nparte del coste. No puedes girar un permanente de nuevo hasta que haya sido enderezado. Al comienzo de cada uno de tus turnos, endereza tus cartas giradas para poder usarlas de nuevo.\\nindestructible : un permanente indestructible \\nno puede ser destruido por daño o por efectos que digan “destruye” . Sí puede ser sacrificado o exiliado. Si un efecto reduce la resistencia de una criatura indestructible a 0 o menos, sigue teniendo que ir al cementerio de su propietario.\\nintimidar : una criatura con la habilidad de', metadata={'source': '.\\\\Doc\\\\mtg.pdf', 'page': 13}),\n",
       " Document(page_content='intimidar : una criatura con la habilidad de \\nintimidar no puede ser bloqueada excepto por criaturas artefacto y/o criaturas que compartan un color con ella.\\nlanzar : los hechizos se lanzan pagando su coste \\nde maná y poniéndolos en la pila. Consulta “Lanzar hechizos” en la página 6.\\nluchar : cuando dos criaturas luchan, cada una \\nhace una cantidad de daño igual a su fuerza a \\nla otra. Esto no es lo mismo que cuando las criaturas hacen daño en combate.\\nmaná : es la energía que se obtiene de las tierras \\ny que se usa para lanzar hechizos. El maná puede ser blanco (oW), azul (oU), negro (oB), rojo (oR), verde (oG) e incluso, a veces, incoloro (o1).\\nmorir : otra forma de decir que una criatura ha \\nido a un cementerio desde el campo de batalla.', metadata={'source': '.\\\\Doc\\\\mtg.pdf', 'page': 13}),\n",
       " Document(page_content='morir : otra forma de decir que una criatura ha \\nido a un cementerio desde el campo de batalla. \\nmulligan : al comienzo del juego, si no te gusta \\ntu mano inicial, puedes hacer un mulligan. Baraja tu mano en tu mazo y roba una nueva mano con una carta menos. Puedes hacer tantos mulligan como quieras, pero tu mano inicial se reducirá cada vez más. Normalmente, los jugadores hacen mulligan porque no tienen suficientes cartas de tierra, o porque han sacado demasiadas tierras y no los hechizos suficientes.\\nobjetivo : si un hechizo usa la palabra “objetivo” , tú \\neliges a qué afectará el hechizo cuando lo lances. Lo mismo vale para las habilidades que actives.\\npermanente : las tierras, criaturas, artefactos,', metadata={'source': '.\\\\Doc\\\\mtg.pdf', 'page': 13}),\n",
       " Document(page_content='permanente : las tierras, criaturas, artefactos, \\nencantamientos y planeswalkers son permanentes. Entran al campo de batalla después de ser lanzados. Las fichas de criatura también son permanentes. Sin embargo, los instantáneos y conjuros no son permanentes y van al cementerio después de resolverse.\\nprisa : una criatura con la habilidad de prisa \\npuede atacar y puedes activar sus habilidades con \\noT tan pronto como entra bajo tu control.\\nprotección : una criatura con protección \\ncontra un color no puede ser bloqueada, hecha objetivo, recibir daño de o estar encantada por nada de ese color.\\npróxima vez / siguiente punto de daño : a veces', metadata={'source': '.\\\\Doc\\\\mtg.pdf', 'page': 13}),\n",
       " Document(page_content='próxima vez / siguiente punto de daño : a veces \\nuna habilidad se refiere a “la próxima vez” que pase algo o al “siguiente punto de daño” que una criatura o jugador fuera a recibir. Recuerda que un instantáneo o una habilidad usada en respuesta a algo se resuelve primero.', metadata={'source': '.\\\\Doc\\\\mtg.pdf', 'page': 13}),\n",
       " Document(page_content='15©2014 Wizards of the Coast LLC, PO Box 707, Renton, WA 98057-0707, \\nEE.\\n \\nUU. Fabricado por: Hasbro SA, Rue Emile-Boéchat 31, 2800 Delémont, CH. \\nRepresentado por: Hasbro Europe, 2 Roundwood Ave, Stockley Park, Uxbridge, Middlesex, UB11 1AZ, UK. Conserva los datos de la empresa para futura referencia. Todas las marcas registradas, incluido el aspecto distintivo de los personajes, los símbolos WUBRGT y el pentágono de colores son propiedad de Wizards en EE.\\n \\nUU. y en otros países. Pat. en EE.\\n \\nUU. Nº RE 37.957. \\n300B11594001  SP\\nContáctanos en Wizards.com/CustomerService', metadata={'source': '.\\\\Doc\\\\mtg.pdf', 'page': 14}),\n",
       " Document(page_content='UU. Nº RE 37.957. \\n300B11594001  SP\\nContáctanos en Wizards.com/CustomerService\\nPara España: Hasbro Italy S.r.l., Centro Direzionale Milanofiori p/a Wizards of the Coast, Strada 7 - Palazzo R1, 20089 Rozzano (MI), ITALIA. Para Latinoamérica: Wizards of the Coast LLC, P .O. Box 707, Renton, WA 98057-0707, EE.\\n \\nUU.\\nAtención al cliente para Latinoamérica: 1-425-204-8069Atención al cliente para España: wpn@hasbro.esregenerar : regenerar una criatura impide que \\nsea destruida. En vez de ser destruida, la criatura \\nse gira, se remueve del combate (si estaba en combate) y se cura todo su daño.\\nreserva de maná : aquí es donde va el maná', metadata={'source': '.\\\\Doc\\\\mtg.pdf', 'page': 14}),\n",
       " Document(page_content='reserva de maná : aquí es donde va el maná \\ndespués de girar tus tierras para obtenerlo y antes de gastarlo. Algunas habilidades te indican que agregues maná a tu reserva de maná. Estas habilidades te dan maná igual que el que obtienes al girar tierras. El maná no puede acumularse de turno a turno.\\nrobar una carta : para robar una carta, toma la \\nprimera carta de tu biblioteca y ponla en tu mano.\\nsacrificar : a veces una carta te pide que \\nsacrifiques una criatura o algún otro permanente. Para sacrificar un permanente, ponlo en tu cementerio desde el campo de batalla. No puedes regenerarlo o salvarlo de ninguna manera. Solo puedes sacrificar tus propios permanentes.\\ntoque mortal : una criatura que recibe daño de \\nuna criatura con toque mortal es destruida.', metadata={'source': '.\\\\Doc\\\\mtg.pdf', 'page': 14}),\n",
       " Document(page_content='toque mortal : una criatura que recibe daño de \\nuna criatura con toque mortal es destruida.\\nvigilancia : una criatura con la habilidad de \\nvigilancia no se gira al atacar. Sin embargo, la habilidad de vigilancia no permite a una criatura girada o a una criatura que ha entrado en el campo de batalla este turno que ataque.\\nvínculo vital : si una criatura con vínculo vital \\nhace daño, su controlador gana además esa misma cantidad de vidas.volar : una criatura con la habilidad de volar \\nsolo puede ser bloqueada por otras criaturas con la habilidad de volar y por criaturas con la habilidad de alcance.\\nX, oX: algunos hechizos y habilidades tienen', metadata={'source': '.\\\\Doc\\\\mtg.pdf', 'page': 14}),\n",
       " Document(page_content='X, oX: algunos hechizos y habilidades tienen \\nefectos que cambian según la cantidad de maná que uses para pagarlos. Por ejemplo, el Rayo de calor es un hechizo instantáneo que cuesta oXoR y hace X puntos de daño. Si pagaste o3oR para lanzarlo, hará 3 puntos de daño. Si pagaste o6oR para lanzarlo, hará 6 puntos de daño.\\nIlust. Aleksi Briclot', metadata={'source': '.\\\\Doc\\\\mtg.pdf', 'page': 14}),\n",
       " Document(page_content='Fase inicial\\n ∙Paso de enderezar: vuelve a poner al derecho todas tus \\ncartas giradas.\\n ∙Paso de mantenimiento\\n ∙Paso de robar: roba una carta de tu biblioteca (mazo).\\nFase principal\\n Puedes jugar una tierra de tu mano poniéndola en el campo \\nde batalla (mesa). Puedes lanzar criaturas, conjuros y otros hechizos si puedes pagarlos.\\nFase de combate\\n ∙Paso de inicio del combate\\n ∙ Paso de declarar atacantes: gira todas las criaturas con las que quieras atacar a tu oponente. (Una criatura no puede atacar el mismo turno que la lanzas a menos que tenga la \\nhabilidad de prisa).\\n ∙ Paso de declarar bloqueadoras: cada criatura defensora \\nenderezada puede bloquear a una atacante. Las criaturas no \\ntienen por qué bloquear.\\n ∙ Paso de daño de combate: las criaturas bloqueadoras y las', metadata={'source': '.\\\\Doc\\\\mtg.pdf', 'page': 15}),\n",
       " Document(page_content='tienen por qué bloquear.\\n ∙ Paso de daño de combate: las criaturas bloqueadoras y las \\ncriaturas atacantes que son bloqueadas se hacen mutuamente un daño igual a su fuerza, que es el primer número en la esquina inferior derecha. Si una criatura recibe daño de un valor igual o mayor que el segundo número, su resistencia, es destruida. Las criaturas atacantes no bloqueadas hacen \\ndaño a tu oponente, que pierde esa misma cantidad de vidas.\\n ∙Paso de final del combate.\\nFase principal (de nuevo)\\n Puedes jugar una tierra si aún no has jugado ninguna.  \\nPuedes lanzar hechizos.\\nFase de finalización\\n ∙Paso final\\n ∙Paso de limpieza: las criaturas heridas en el campo de \\nbatalla se curan.Partes de un turnoIlust. Brad Rigney', metadata={'source': '.\\\\Doc\\\\mtg.pdf', 'page': 15})]"
      ]
     },
     "execution_count": 30,
     "metadata": {},
     "output_type": "execute_result"
    }
   ],
   "source": [
    "chunks"
   ]
  },
  {
   "cell_type": "code",
   "execution_count": 24,
   "metadata": {},
   "outputs": [
    {
     "name": "stdout",
     "output_type": "stream",
     "text": [
      "Total Tokens: 14567\n",
      "Embeddings consto en dolar:  0.00146\n"
     ]
    }
   ],
   "source": [
    "print_embeddings_cost(chunks)"
   ]
  },
  {
   "cell_type": "markdown",
   "metadata": {},
   "source": [
    "# Motor de emmbeddings"
   ]
  },
  {
   "cell_type": "code",
   "execution_count": 25,
   "metadata": {},
   "outputs": [],
   "source": [
    "from langchain.embeddings.openai import OpenAIEmbeddings\n",
    "\n",
    "embeddings = OpenAIEmbeddings(api_key=openai_api_key, model=\"text-embedding-ada-002\")"
   ]
  },
  {
   "cell_type": "markdown",
   "metadata": {},
   "source": [
    "# Creamos nuestro cliente de chroma"
   ]
  },
  {
   "cell_type": "markdown",
   "metadata": {},
   "source": [
    "## Guardar en el local"
   ]
  },
  {
   "cell_type": "code",
   "execution_count": 32,
   "metadata": {},
   "outputs": [],
   "source": [
    "db = Chroma.from_documents(chunks, embeddings,  persist_directory=\"./datamtgOpenAI\")"
   ]
  },
  {
   "cell_type": "markdown",
   "metadata": {},
   "source": [
    "## Cargar base de datos"
   ]
  },
  {
   "cell_type": "code",
   "execution_count": null,
   "metadata": {},
   "outputs": [],
   "source": [
    "db = Chroma(persist_directory=\"./datamtgOpenAI\", embedding_function=embeddings)"
   ]
  },
  {
   "cell_type": "markdown",
   "metadata": {},
   "source": [
    "## Operacion"
   ]
  },
  {
   "cell_type": "markdown",
   "metadata": {},
   "source": [
    "### GET Collection"
   ]
  },
  {
   "cell_type": "code",
   "execution_count": null,
   "metadata": {},
   "outputs": [],
   "source": [
    "db._collection.get()"
   ]
  },
  {
   "cell_type": "markdown",
   "metadata": {},
   "source": [
    "### Delete"
   ]
  },
  {
   "cell_type": "code",
   "execution_count": 31,
   "metadata": {},
   "outputs": [],
   "source": [
    "db.delete_collection()"
   ]
  },
  {
   "cell_type": "markdown",
   "metadata": {},
   "source": [
    "# Realizar consulta"
   ]
  },
  {
   "cell_type": "code",
   "execution_count": 33,
   "metadata": {},
   "outputs": [
    {
     "data": {
      "text/plain": [
       "[(Document(page_content='Jasper SandnerC 214/ 269 2/1Oo2\\n™ & © 2014 Wizards of the CoastSP• M15Campo de \\nbatallatú \\n16 vidas\\nrestantes\\nyo\\n18 vidas \\nrestantesCementerio  Biblioteca  \\nBiblioteca  Mano\\nManoCementerio  \\n3Para comenzar el juego, baraja tu mazo, \\ntambién conocido como tu biblioteca. Roba una mano de siete cartas y comprueba cuántas tierras tienes. Puedes mirar la línea de texto que hay bajo la ilustración de cada carta para ver de qué tipo de carta se trata. Para este primer juego, si no tienes al menos dos tierras, baraja de nuevo tu mazo (incluyendo tu mano anterior) y roba una mano nueva.\\nCada jugador comienza con 20 vidas, \\ny cada uno debe llevar la cuenta de su total de vidas de alguna manera (con un dado, lápiz y papel...). ¡Reduce el total de vidas de tu oponente a 0 y ganarás el juego!Comenzar', metadata={'page': 2, 'source': '.\\\\Doc\\\\mtg.pdf'}),\n",
       "  0.34318149586967045),\n",
       " (Document(page_content='Siempre que ganes vidas, puedes \\nponer un contador +1/+1 sobre el Compañero de manada de Ajani.\\n“Cuando uno de nosotros mejora, la \\nmanada mejora”.  \\n—Jazal Melena DoradaCriatura — Soldado felinoCompañero de manada de Ajani\\nSvetlin VelinovU 002/ 2692/2OOo1oW\\n™ & © 2014 Wizards of the Coast SP• M15\\nCuando el Escaramuzador de Kinsbaile entre al campo de batalla, la criatura objetivo obtiene +1/+1 hasta el final del turno.\\n“Si un boggart osa incluso respirar cerca \\nde uno de los míos, lo sabré. Y no estaré feliz”.Criatura — Soldado kithkinEscaramuzador de Kinsbaile\\nThomas DenmarkC 016/ 2692/2OOo1oW\\n™ & © 2014 Wizards of the Coast SP• M15\\nSiempre que lances un hechizo blanco o una llanura entre al campo de batalla bajo tu control, ganas 1 vida.\\nUn símbolo de convicción en tiempos', metadata={'page': 2, 'source': '.\\\\Doc\\\\mtg.pdf'}),\n",
       "  0.36483704915023657),\n",
       " (Document(page_content='juego y puedes mezclarlas en incontables \\ncombinaciones.\\nHay miles de cartas para elegir, por lo \\nque te preguntarás por dónde comenzar. Cada jugador necesita un mazo de al menos 60 cartas; un pack de inicio es una forma ideal de conseguirlo. Estos packs te ofrecen todo cuanto necesitas para empezar a jugar: un mazo de 60 cartas listo para jugar lleno de criaturas, tierras y otros hechizos. También incluye dos sobres de 15 cartas que podrás utilizar para darle al mazo un toque propio.juega \\ncon tu \\nPRESA  \\nIlust. Tyler Jacobson', metadata={'page': 1, 'source': '.\\\\Doc\\\\mtg.pdf'}),\n",
       "  0.4012797827699185),\n",
       " (Document(page_content='Jugador atacante\\nJugador defensor\\nLa magia de los elfos deja su marca en \\nel bosque. La magia del bosque deja su \\nmarca en los animales que lo habitan. \\nLos animales del bosque dejan su marca \\nen todo aquel que lo invade.Criatura — OsoOso garra de runas\\nJesper EjsingC 197/ 2692/2OOo1oG\\n™ & © 2014 Wizards of the Coast SP• M15\\n2/24/3 2/1\\nPrisa. (Esta criatura puede atacar y oT \\ntan pronto como entra bajo tu control.)\\nSe sintió al gigante varios segundos \\nantes de que se lo viera.Criatura — GiganteGigante descomunal\\nMark ZugC 165/ 2694/3OOOo3oRoR\\n™ & © 2014 Wizards of the Coast SP• M15\\nPrisa. (Esta criatura puede atacar y oT \\ntan pronto como entra bajo tu control.)\\nSe sintió al gigante varios segundos \\nantes de que se lo viera.Criatura — GiganteGigante descomunal', metadata={'page': 7, 'source': '.\\\\Doc\\\\mtg.pdf'}),\n",
       "  0.4035391239458715)]"
      ]
     },
     "execution_count": 33,
     "metadata": {},
     "output_type": "execute_result"
    }
   ],
   "source": [
    "\n",
    "query = \"Con cuanta vida empiezan los jugadores?\"\n",
    "docs = db.similarity_search_with_score(query)\n",
    "docs"
   ]
  },
  {
   "cell_type": "markdown",
   "metadata": {},
   "source": [
    "# Carga del modelo"
   ]
  },
  {
   "cell_type": "code",
   "execution_count": 34,
   "metadata": {},
   "outputs": [],
   "source": [
    "from langchain.chat_models import ChatOpenAI\n",
    "from langchain.chains.question_answering import load_qa_chain\n",
    "\n",
    "llm = ChatOpenAI(model_name='gpt-3.5-turbo')\n",
    "chainQA = load_qa_chain(llm, chain_type=\"stuff\")"
   ]
  },
  {
   "cell_type": "markdown",
   "metadata": {},
   "source": [
    "# Realizar pregunta al QnA"
   ]
  },
  {
   "cell_type": "code",
   "execution_count": 38,
   "metadata": {},
   "outputs": [],
   "source": [
    "pregunta = \"Mi amigo tom es muy fanatico del magic que podria regalarle?\""
   ]
  },
  {
   "cell_type": "code",
   "execution_count": 39,
   "metadata": {},
   "outputs": [
    {
     "name": "stdout",
     "output_type": "stream",
     "text": [
      "Respuesta ChatGPT: Podrías considerar regalarle un pack de inicio de Magic: The Gathering. Estos packs vienen con un mazo de 60 cartas listo para jugar, lleno de criaturas, tierras y otros hechizos, además de dos sobres de 15 cartas adicionales para que pueda personalizar su mazo. También podrías considerar regalarle una caja para guardar sus cartas, protectores de cartas o incluso cartas sueltas que le falten en su colección. Si no estás seguro de qué le falta o qué le gustaría, también podrías regalarle una tarjeta de regalo de una tienda de juegos o de Magic para que él pueda elegir lo que más le convenga. \n",
      " Tokens Used: 930\n",
      "\tPrompt Tokens: 771\n",
      "\tCompletion Tokens: 159\n",
      "Successful Requests: 1\n",
      "Total Cost (USD): $0.0014745000000000001\n"
     ]
    }
   ],
   "source": [
    "from langchain.callbacks import get_openai_callback\n",
    "\n",
    "with get_openai_callback() as cb:\n",
    "    docs = db.similarity_search(pregunta)\n",
    "    response = chainQA.run(input_documents=docs, question=pregunta)\n",
    "    print(f\"Respuesta ChatGPT: {response} \\n {cb}\")"
   ]
  },
  {
   "cell_type": "markdown",
   "metadata": {},
   "source": [
    "# QnA Con memoria"
   ]
  },
  {
   "cell_type": "code",
   "execution_count": 59,
   "metadata": {},
   "outputs": [],
   "source": [
    "from langchain.llms import OpenAI\n",
    "from langchain.memory import ConversationBufferMemory\n",
    "from langchain.prompts import PromptTemplate\n",
    "\n",
    "# Creamos el template del promt\n",
    "template = \"\"\"Eres un chatbot manteniendo una conversación con un humano.\n",
    "\n",
    "Segun el Contexto y el Historial de la conversacion, el humano te hara una pregunta y tu deberas responderla de la mejor manera posible, si no sabes la respuesta, puedes decirle que no sabes.\n",
    "\n",
    "## Contexto\n",
    "{context}\n",
    "\n",
    "## Historial de la conversacion\n",
    "{chat_history}\n",
    "\n",
    "## Pregunta del Human y respuesta final\n",
    "Human: {human_input}\n",
    "AI:\"\"\"\n",
    "\n",
    "prompt = PromptTemplate(\n",
    "    input_variables=[\"chat_history\", \"human_input\", \"context\"], template=template\n",
    ")\n",
    "\n",
    "# Creamos la memoria\n",
    "memory = ConversationBufferMemory(memory_key=\"chat_history\", input_key=\"human_input\")"
   ]
  },
  {
   "cell_type": "code",
   "execution_count": 60,
   "metadata": {},
   "outputs": [],
   "source": [
    "chainQnAMemory = load_qa_chain(\n",
    "    OpenAI(temperature=0), chain_type=\"stuff\", memory=memory, prompt=prompt\n",
    ")"
   ]
  },
  {
   "cell_type": "code",
   "execution_count": 65,
   "metadata": {},
   "outputs": [
    {
     "name": "stdout",
     "output_type": "stream",
     "text": [
      "Callnack: Tokens Used: 1435\n",
      "\tPrompt Tokens: 1375\n",
      "\tCompletion Tokens: 60\n",
      "Successful Requests: 1\n",
      "Total Cost (USD): $0.0287 \n",
      "\n",
      "\n"
     ]
    },
    {
     "data": {
      "text/plain": [
       "{'input_documents': [Document(page_content='juego y puedes mezclarlas en incontables \\ncombinaciones.\\nHay miles de cartas para elegir, por lo \\nque te preguntarás por dónde comenzar. Cada jugador necesita un mazo de al menos 60 cartas; un pack de inicio es una forma ideal de conseguirlo. Estos packs te ofrecen todo cuanto necesitas para empezar a jugar: un mazo de 60 cartas listo para jugar lleno de criaturas, tierras y otros hechizos. También incluye dos sobres de 15 cartas que podrás utilizar para darle al mazo un toque propio.juega \\ncon tu \\nPRESA  \\nIlust. Tyler Jacobson', metadata={'page': 1, 'source': '.\\\\Doc\\\\mtg.pdf'}),\n",
       "  Document(page_content='Jasper SandnerC 214/ 269 2/1Oo2\\n™ & © 2014 Wizards of the CoastSP• M15Campo de \\nbatallatú \\n16 vidas\\nrestantes\\nyo\\n18 vidas \\nrestantesCementerio  Biblioteca  \\nBiblioteca  Mano\\nManoCementerio  \\n3Para comenzar el juego, baraja tu mazo, \\ntambién conocido como tu biblioteca. Roba una mano de siete cartas y comprueba cuántas tierras tienes. Puedes mirar la línea de texto que hay bajo la ilustración de cada carta para ver de qué tipo de carta se trata. Para este primer juego, si no tienes al menos dos tierras, baraja de nuevo tu mazo (incluyendo tu mano anterior) y roba una mano nueva.\\nCada jugador comienza con 20 vidas, \\ny cada uno debe llevar la cuenta de su total de vidas de alguna manera (con un dado, lápiz y papel...). ¡Reduce el total de vidas de tu oponente a 0 y ganarás el juego!Comenzar', metadata={'page': 2, 'source': '.\\\\Doc\\\\mtg.pdf'}),\n",
       "  Document(page_content='Jugador atacante\\nJugador defensor\\nLa magia de los elfos deja su marca en \\nel bosque. La magia del bosque deja su \\nmarca en los animales que lo habitan. \\nLos animales del bosque dejan su marca \\nen todo aquel que lo invade.Criatura — OsoOso garra de runas\\nJesper EjsingC 197/ 2692/2OOo1oG\\n™ & © 2014 Wizards of the Coast SP• M15\\n2/24/3 2/1\\nPrisa. (Esta criatura puede atacar y oT \\ntan pronto como entra bajo tu control.)\\nSe sintió al gigante varios segundos \\nantes de que se lo viera.Criatura — GiganteGigante descomunal\\nMark ZugC 165/ 2694/3OOOo3oRoR\\n™ & © 2014 Wizards of the Coast SP• M15\\nPrisa. (Esta criatura puede atacar y oT \\ntan pronto como entra bajo tu control.)\\nSe sintió al gigante varios segundos \\nantes de que se lo viera.Criatura — GiganteGigante descomunal', metadata={'page': 7, 'source': '.\\\\Doc\\\\mtg.pdf'})],\n",
       " 'human_input': 'cuantos jugadores pueden jugar?',\n",
       " 'chat_history': 'Human: Como se llama mi amigo?\\nAI:  No sé cómo se llama tu amigo.\\nHuman: mi amigo tom es muy fanatico del magic que podria regalarle?\\nAI:  Si tu amigo Tom es un fanático de Magic, puedes regalarle un pack de inicio para que empiece a jugar. Estos packs incluyen un mazo de 60 cartas listo para jugar, así como dos sobres de 15 cartas para personalizar el mazo. También puedes regalarle cartas individuales, como criaturas, tierras, hechizos, artefactos y planeswalkers.\\nHuman: puedes darme un resumen de las reglas del juego?\\nAI:  Las reglas básicas de Magic: The Gathering son sencillas. Cada jugador comienza con 20 puntos de vida y un mazo de al menos 60 cartas. El objetivo es reducir los puntos de vida del oponente a 0. Para hacer esto, los jugadores usan criaturas, hechizos, artefactos y planeswalkers para atacar al oponente y defenderse. Las criaturas tienen una fuerza y una resistencia, y si una criatura recibe daño igual o mayor a su resistencia en un mismo turno, es destruida. El maná es la moneda del juego y se obtiene al girar tierras. El maná se usa para pagar el costo de los hechizos y criaturas.\\nHuman: como se llama mi amigo?\\nAI:  No sé cómo se llama tu amigo.',\n",
       " 'output_text': ' Magic: The Gathering es un juego para dos o más jugadores. Puedes jugar con hasta seis jugadores en una partida, aunque la mayoría de las partidas se juegan con dos o cuatro jugadores.'}"
      ]
     },
     "execution_count": 65,
     "metadata": {},
     "output_type": "execute_result"
    }
   ],
   "source": [
    "with get_openai_callback() as cb:\n",
    "    pregunta = \"cuantos jugadores pueden jugar?\"\n",
    "    docs = db.similarity_search(pregunta, 3)\n",
    "    response = chainQnAMemory({\"input_documents\": docs, \"human_input\": pregunta})\n",
    "    print(f\"Callnack: {cb} \\n\\n\")\n",
    "\n",
    "response\n"
   ]
  }
 ],
 "metadata": {
  "kernelspec": {
   "display_name": "base",
   "language": "python",
   "name": "python3"
  },
  "language_info": {
   "codemirror_mode": {
    "name": "ipython",
    "version": 3
   },
   "file_extension": ".py",
   "mimetype": "text/x-python",
   "name": "python",
   "nbconvert_exporter": "python",
   "pygments_lexer": "ipython3",
   "version": "3.11.5"
  }
 },
 "nbformat": 4,
 "nbformat_minor": 2
}
