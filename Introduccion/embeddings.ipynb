{
 "cells": [
  {
   "cell_type": "code",
   "execution_count": 1,
   "metadata": {},
   "outputs": [],
   "source": [
    "from dotenv import load_dotenv\n",
    "import os\n",
    "\n",
    "load_dotenv()\n",
    "\n",
    "openai_api_key=os.getenv('OPENAI_API_KEY', 'YourAPIKey')"
   ]
  },
  {
   "cell_type": "markdown",
   "metadata": {},
   "source": [
    "# Coustom Embeddings"
   ]
  },
  {
   "cell_type": "markdown",
   "metadata": {},
   "source": [
    "## OpenAI"
   ]
  },
  {
   "cell_type": "code",
   "execution_count": null,
   "metadata": {},
   "outputs": [],
   "source": [
    "!pip install chromadb openai "
   ]
  },
  {
   "cell_type": "markdown",
   "metadata": {},
   "source": [
    "## Configuracion del Embeddings"
   ]
  },
  {
   "cell_type": "markdown",
   "metadata": {},
   "source": [
    "### Datos"
   ]
  },
  {
   "cell_type": "code",
   "execution_count": 5,
   "metadata": {},
   "outputs": [],
   "source": [
    "student_info = \"\"\"\n",
    "Alexandra Thompson, estudiante de segundo curso de informática de 19 años con un promedio de 3,7,\n",
    "es miembro de los clubes de programación y ajedrez, y en su tiempo libre disfruta de la pizza, la natación y el senderismo.\n",
    "en su tiempo libre con la esperanza de trabajar en una empresa de tecnología después de graduarse en la Universidad de Washington.\n",
    "\"\"\"\n",
    "\n",
    "club_info = \"\"\"\n",
    "El club universitario de ajedrez ofrece a los estudiantes la oportunidad de reunirse y disfrutar jugando\n",
    "el clásico juego de estrategia del ajedrez. Los miembros de todos los niveles son bienvenidos, desde principiantes que aprenden las reglas hasta jugadores de torneos experimentados.\n",
    "desde principiantes que aprenden las reglas hasta jugadores experimentados en torneos. El club suele reunirse varias veces por semana para jugar partidas informales,\n",
    "participar en torneos, analizar partidas de ajedrez famosas y mejorar las habilidades de los miembros.\n",
    "\"\"\"\n",
    "\n",
    "university_info = \"\"\"\n",
    "La Universidad de Washington, fundada en 1861 en Seattle, es una universidad pública de investigación\n",
    "con más de 45.000 estudiantes repartidos en tres campus en Seattle, Tacoma y Bothell.\n",
    "Es el buque insignia de las seis universidades públicas del estado de Washington,\n",
    "UW abarca más de 500 edificios y 20 millones de pies cuadrados de espacio,\n",
    "incluyendo uno de los mayores sistemas bibliotecarios del mundo.\n",
    "\"\"\""
   ]
  },
  {
   "cell_type": "markdown",
   "metadata": {},
   "source": [
    "## Establecemos text-embedding-ada-002 como default"
   ]
  },
  {
   "cell_type": "code",
   "execution_count": null,
   "metadata": {},
   "outputs": [],
   "source": [
    "from chromadb.utils import embedding_functions\n",
    "openai_ef = embedding_functions.OpenAIEmbeddingFunction(\n",
    "                api_key=openai_api_key,\n",
    "                model_name=\"text-embedding-ada-002\"\n",
    "            )\n",
    "students_embeddings = openai_ef([student_info, club_info, university_info])\n",
    "print(students_embeddings)"
   ]
  },
  {
   "cell_type": "markdown",
   "metadata": {},
   "source": [
    "## creamos nuestra coustom embedding\n",
    "\n",
    "En este caso usaremos [sentence-transformers/all-MiniLM-L6-v2](https://huggingface.co/sentence-transformers/all-MiniLM-L6-v2)"
   ]
  },
  {
   "cell_type": "code",
   "execution_count": null,
   "metadata": {},
   "outputs": [],
   "source": [
    "!pip install transformers"
   ]
  },
  {
   "cell_type": "code",
   "execution_count": null,
   "metadata": {},
   "outputs": [],
   "source": [
    "from sentence_transformers import SentenceTransformer\n",
    "\n",
    "model = SentenceTransformer(\"sentence-transformers/all-MiniLM-L6-v2\")\n",
    "\n",
    "from chromadb import Documents, EmbeddingFunction, Embeddings\n",
    "\n",
    "class MyEmbeddingFunction(EmbeddingFunction):\n",
    "    def __call__(self, texts: Documents) -> Embeddings:\n",
    "        \n",
    "        embeddings = []\n",
    "        for text in texts:\n",
    "            embeddings.append(model.encode(text))\n",
    "\n",
    "        return embeddings\n",
    "    \n",
    "my_ef = MyEmbeddingFunction()\n",
    "embeddings = my_ef([student_info, club_info, university_info])\n",
    "\n",
    "print(embeddings)"
   ]
  }
 ],
 "metadata": {
  "kernelspec": {
   "display_name": "base",
   "language": "python",
   "name": "python3"
  },
  "language_info": {
   "codemirror_mode": {
    "name": "ipython",
    "version": 3
   },
   "file_extension": ".py",
   "mimetype": "text/x-python",
   "name": "python",
   "nbconvert_exporter": "python",
   "pygments_lexer": "ipython3",
   "version": "3.11.5"
  }
 },
 "nbformat": 4,
 "nbformat_minor": 2
}
