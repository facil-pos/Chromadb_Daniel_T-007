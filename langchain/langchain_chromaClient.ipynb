{
 "cells": [
  {
   "cell_type": "markdown",
   "metadata": {},
   "source": [
    "# Desplegar chromaDB\n",
    "\n",
    "`NOTA:Instalar docker y se recomienda utilizar linux`"
   ]
  },
  {
   "cell_type": "code",
   "execution_count": null,
   "metadata": {},
   "outputs": [],
   "source": [
    "! docker pull chromadb/chroma"
   ]
  },
  {
   "cell_type": "markdown",
   "metadata": {},
   "source": [
    "## Configuracion de docker\n",
    "\n",
    "En este caso configuraremos un contenedor que use un token para la autentificacion, para saber sobre mas tipos de autenticacion da puedes ver la documentacion [aqui](https://docs.trychroma.com/usage-guide#authentication) y configuramos un volumen para persistencia de datos\n",
    "\n",
    "Tambien habilitaremos la opcion de reseteo de la base de datos"
   ]
  },
  {
   "cell_type": "code",
   "execution_count": null,
   "metadata": {},
   "outputs": [],
   "source": [
    "! docker run ^\n",
    "-p 8000:8000 ^\n",
    "-e CHROMA_SERVER_AUTH_CREDENTIALS=\"test-token\" ^\n",
    "-e CHROMA_SERVER_AUTH_CREDENTIALS_PROVIDER=\"chromadb.auth.token.TokenConfigServerAuthCredentialsProvider\" ^\n",
    "-e CHROMA_SERVER_AUTH_PROVIDER=\"chromadb.auth.token.TokenAuthServerProvider\" ^\n",
    "-e ALLOW_RESET=TRUE ^\n",
    "-e IS_PERSISTENT=TRUE ^\n",
    "-v C:/Users/Dannkol/Documents/FacilPost/docker_prueba/chromadata/:/chroma/chroma ^\n",
    "chromadb/chroma"
   ]
  },
  {
   "cell_type": "code",
   "execution_count": null,
   "metadata": {},
   "outputs": [],
   "source": [
    "# Verificar que el contenedor esta corriendo\n",
    "\n",
    "! curl  -X GET \\\n",
    "  'http://localhost:8000/api/v1/tenants/default_tenant' \\\n",
    "  --header 'Accept: */*' \\\n",
    "  --header 'User-Agent: Thunder Client (https://www.thunderclient.com)' \\\n",
    "  --header 'Authorization: Bearer test-token'"
   ]
  },
  {
   "cell_type": "markdown",
   "metadata": {},
   "source": [
    "# Conectamos el cliente\n",
    "\n",
    "Dependiendo de nuestra configuracion la conexion al backend es diferente, en este caso se realiza por medio de un token y una api, entonces podremos hacer peticiones pormedio de la api mandando un header de `Authorization`"
   ]
  },
  {
   "cell_type": "code",
   "execution_count": 63,
   "metadata": {},
   "outputs": [
    {
     "data": {
      "text/plain": [
       "[]"
      ]
     },
     "execution_count": 63,
     "metadata": {},
     "output_type": "execute_result"
    }
   ],
   "source": [
    "import chromadb\n",
    "from chromadb.config import Settings\n",
    "\n",
    "client = chromadb.HttpClient(\n",
    "    settings=Settings(\n",
    "        chroma_client_auth_provider=\"chromadb.auth.token.TokenAuthClientProvider\",\n",
    "        chroma_client_auth_credentials=\"test-token\", \n",
    "        allow_reset=True)\n",
    "        )\n",
    "\n",
    "client.heartbeat()  \n",
    "\n",
    "client.get_version()  \n",
    "\n",
    "client.list_collections()  "
   ]
  },
  {
   "cell_type": "markdown",
   "metadata": {},
   "source": [
    "# Integracion con langchain"
   ]
  },
  {
   "cell_type": "code",
   "execution_count": 56,
   "metadata": {},
   "outputs": [
    {
     "data": {
      "text/plain": [
       "[Collection(name=test-collection)]"
      ]
     },
     "execution_count": 56,
     "metadata": {},
     "output_type": "execute_result"
    }
   ],
   "source": [
    "# Creamos una nueva colección\n",
    "colección = client.create_collection(\"test-collection\")\n",
    "\n",
    "# Verificamos que la colección se haya creado\n",
    "client.list_collections()"
   ]
  },
  {
   "cell_type": "code",
   "execution_count": 57,
   "metadata": {},
   "outputs": [],
   "source": [
    "# Creamos un nuevo documento\n",
    "descripcionSrAnillos = \"El señor de los anillos: La comunidad del anillo es una película de fantasía y aventuras de 2001 dirigida por Peter Jackson y basada en el primer volumen de la novela homónima de J. R. R. Tolkien. Es la primera entrega de la trilogía cinematográfica El Señor de los Anillos, producida por New Line Cinema y protagonizada por Elijah Wood, Ian McKellen, Liv Tyler y Viggo Mortensen, entre otros. La historia se centra en el joven hobbit Frodo Bolsón, quien emprende un viaje para destruir el Anillo Único y poner fin al poder maléfico del Señor Oscuro Sauron. Se trata de la primera adaptación de la novela de Tolkien al cine, y fue escrita por Fran Walsh, Philippa Boyens, Stephen Sinclair y el propio Jackson.\"\n",
    "\n",
    "descripcionBatman = \"Batman es una película de superhéroes británico-estadounidense de 1989 dirigida por Tim Burton y producida por Jon Peters y Peter Guber, con un guion de Sam Hamm y Warren Skaaren. Está basada en el personaje homónimo de DC Comics creado por Bob Kane e interpretado por Michael Keaton. La película está protagonizada por Jack Nicholson como el Joker, Kim Basinger como Vicki Vale, Robert Wuhl como Alexander Knox y Jack Palance como Carl Grissom. La película se centra en el origen del superhéroe Batman y su lucha contra el Joker, un villano que planea dominar la ciudad de Gotham con un misterioso gas que causa risa.\"\n",
    "\n",
    "descripcionHarryPotter = \"Harry Potter y la piedra filosofal es una película de fantasía y aventuras basada en el libro homónimo de J. K. Rowling, dirigida por Chris Columbus y estrenada en 2001. Es la primera entrega de la serie de películas de Harry Potter. La película fue escrita por Steve Kloves y producida por David Heyman. La historia sigue a Harry Potter, un niño que descubre que es un mago y es enviado a estudiar a la Escuela Hogwarts de Magia y Hechicería. Allí se entera de que el mago tenebroso Lord Voldemort, que asesinó a sus padres, está vivo y planea volver al poder. La película fue distribuida por Warner Bros. Pictures y protagonizada por Daniel Radcliffe como Harry Potter, con Rupert Grint como Ron Weasley y Emma Watson como Hermione Granger.\"\n",
    "\n",
    "descripcionMatrix = \"Matrix es una película de ciencia ficción y acción estadounidense de 1999 escrita y dirigida por las hermanas Wachowski y protagonizada por Keanu Reeves, Laurence Fishburne, Carrie-Anne Moss y Hugo Weaving. Está ambientada en un futuro distópico donde la realidad percibida por la mayoría de los humanos es en realidad una simulación virtual llamada «Matrix», creada por máquinas inteligentes para esclavizar a la raza humana, mientras que sus cuerpos caloríficos son usados como fuente de energía. Un pirata informático llamado Neo descubre esta verdad y se ve arrastrado a una rebelión contra las máquinas, que involucra a otras personas que han sido liberadas de la Matrix.\"\n",
    "\n",
    "\n",
    "# Agregar documentos a la colección\n",
    "# Les agregamos un metadato de genero\n",
    "colección.add(\n",
    "    documents = [descripcionSrAnillos, descripcionBatman, descripcionHarryPotter, descripcionMatrix],\n",
    "    metadatas = [{\"genero\": \"fantasia\"},{\"genero\": \"accion\"},{'genero':'fantasia'},{'genero':'accion'}],\n",
    "    ids = [\"id1\", \"id2\", \"id3\", \"id4\"]\n",
    ")"
   ]
  },
  {
   "cell_type": "code",
   "execution_count": 58,
   "metadata": {},
   "outputs": [
    {
     "data": {
      "text/plain": [
       "{'ids': ['id1', 'id2', 'id3', 'id4'],\n",
       " 'embeddings': None,\n",
       " 'metadatas': [{'genero': 'fantasia'},\n",
       "  {'genero': 'accion'},\n",
       "  {'genero': 'fantasia'},\n",
       "  {'genero': 'accion'}],\n",
       " 'documents': ['El señor de los anillos: La comunidad del anillo es una película de fantasía y aventuras de 2001 dirigida por Peter Jackson y basada en el primer volumen de la novela homónima de J. R. R. Tolkien. Es la primera entrega de la trilogía cinematográfica El Señor de los Anillos, producida por New Line Cinema y protagonizada por Elijah Wood, Ian McKellen, Liv Tyler y Viggo Mortensen, entre otros. La historia se centra en el joven hobbit Frodo Bolsón, quien emprende un viaje para destruir el Anillo Único y poner fin al poder maléfico del Señor Oscuro Sauron. Se trata de la primera adaptación de la novela de Tolkien al cine, y fue escrita por Fran Walsh, Philippa Boyens, Stephen Sinclair y el propio Jackson.',\n",
       "  'Batman es una película de superhéroes británico-estadounidense de 1989 dirigida por Tim Burton y producida por Jon Peters y Peter Guber, con un guion de Sam Hamm y Warren Skaaren. Está basada en el personaje homónimo de DC Comics creado por Bob Kane e interpretado por Michael Keaton. La película está protagonizada por Jack Nicholson como el Joker, Kim Basinger como Vicki Vale, Robert Wuhl como Alexander Knox y Jack Palance como Carl Grissom. La película se centra en el origen del superhéroe Batman y su lucha contra el Joker, un villano que planea dominar la ciudad de Gotham con un misterioso gas que causa risa.',\n",
       "  'Harry Potter y la piedra filosofal es una película de fantasía y aventuras basada en el libro homónimo de J. K. Rowling, dirigida por Chris Columbus y estrenada en 2001. Es la primera entrega de la serie de películas de Harry Potter. La película fue escrita por Steve Kloves y producida por David Heyman. La historia sigue a Harry Potter, un niño que descubre que es un mago y es enviado a estudiar a la Escuela Hogwarts de Magia y Hechicería. Allí se entera de que el mago tenebroso Lord Voldemort, que asesinó a sus padres, está vivo y planea volver al poder. La película fue distribuida por Warner Bros. Pictures y protagonizada por Daniel Radcliffe como Harry Potter, con Rupert Grint como Ron Weasley y Emma Watson como Hermione Granger.',\n",
       "  'Matrix es una película de ciencia ficción y acción estadounidense de 1999 escrita y dirigida por las hermanas Wachowski y protagonizada por Keanu Reeves, Laurence Fishburne, Carrie-Anne Moss y Hugo Weaving. Está ambientada en un futuro distópico donde la realidad percibida por la mayoría de los humanos es en realidad una simulación virtual llamada «Matrix», creada por máquinas inteligentes para esclavizar a la raza humana, mientras que sus cuerpos caloríficos son usados como fuente de energía. Un pirata informático llamado Neo descubre esta verdad y se ve arrastrado a una rebelión contra las máquinas, que involucra a otras personas que han sido liberadas de la Matrix.'],\n",
       " 'data': None,\n",
       " 'uris': None}"
      ]
     },
     "execution_count": 58,
     "metadata": {},
     "output_type": "execute_result"
    }
   ],
   "source": [
    "# Verificamos que los documentos se hayan agregado\n",
    "colección.get()"
   ]
  },
  {
   "cell_type": "code",
   "execution_count": 59,
   "metadata": {},
   "outputs": [],
   "source": [
    "# Importamos los paquetes necesarios\n",
    "from langchain.vectorstores import Chroma\n",
    "from langchain.embeddings.sentence_transformer import SentenceTransformerEmbeddings"
   ]
  },
  {
   "cell_type": "code",
   "execution_count": 60,
   "metadata": {},
   "outputs": [],
   "source": [
    "# Definimos la función de embedding\n",
    "embedding_function = SentenceTransformerEmbeddings(model_name=\"all-MiniLM-L6-v2\")\n",
    "# Instanciamos el nuesta base de datos vectorial\n",
    "db = Chroma(\n",
    "    client=client,\n",
    "    collection_name=\"test-collection\",\n",
    "    embedding_function=embedding_function,\n",
    ")"
   ]
  },
  {
   "cell_type": "code",
   "execution_count": 61,
   "metadata": {},
   "outputs": [
    {
     "data": {
      "text/plain": [
       "{'ids': ['id1', 'id2', 'id3', 'id4'],\n",
       " 'embeddings': None,\n",
       " 'metadatas': [{'genero': 'fantasia'},\n",
       "  {'genero': 'accion'},\n",
       "  {'genero': 'fantasia'},\n",
       "  {'genero': 'accion'}],\n",
       " 'documents': ['El señor de los anillos: La comunidad del anillo es una película de fantasía y aventuras de 2001 dirigida por Peter Jackson y basada en el primer volumen de la novela homónima de J. R. R. Tolkien. Es la primera entrega de la trilogía cinematográfica El Señor de los Anillos, producida por New Line Cinema y protagonizada por Elijah Wood, Ian McKellen, Liv Tyler y Viggo Mortensen, entre otros. La historia se centra en el joven hobbit Frodo Bolsón, quien emprende un viaje para destruir el Anillo Único y poner fin al poder maléfico del Señor Oscuro Sauron. Se trata de la primera adaptación de la novela de Tolkien al cine, y fue escrita por Fran Walsh, Philippa Boyens, Stephen Sinclair y el propio Jackson.',\n",
       "  'Batman es una película de superhéroes británico-estadounidense de 1989 dirigida por Tim Burton y producida por Jon Peters y Peter Guber, con un guion de Sam Hamm y Warren Skaaren. Está basada en el personaje homónimo de DC Comics creado por Bob Kane e interpretado por Michael Keaton. La película está protagonizada por Jack Nicholson como el Joker, Kim Basinger como Vicki Vale, Robert Wuhl como Alexander Knox y Jack Palance como Carl Grissom. La película se centra en el origen del superhéroe Batman y su lucha contra el Joker, un villano que planea dominar la ciudad de Gotham con un misterioso gas que causa risa.',\n",
       "  'Harry Potter y la piedra filosofal es una película de fantasía y aventuras basada en el libro homónimo de J. K. Rowling, dirigida por Chris Columbus y estrenada en 2001. Es la primera entrega de la serie de películas de Harry Potter. La película fue escrita por Steve Kloves y producida por David Heyman. La historia sigue a Harry Potter, un niño que descubre que es un mago y es enviado a estudiar a la Escuela Hogwarts de Magia y Hechicería. Allí se entera de que el mago tenebroso Lord Voldemort, que asesinó a sus padres, está vivo y planea volver al poder. La película fue distribuida por Warner Bros. Pictures y protagonizada por Daniel Radcliffe como Harry Potter, con Rupert Grint como Ron Weasley y Emma Watson como Hermione Granger.',\n",
       "  'Matrix es una película de ciencia ficción y acción estadounidense de 1999 escrita y dirigida por las hermanas Wachowski y protagonizada por Keanu Reeves, Laurence Fishburne, Carrie-Anne Moss y Hugo Weaving. Está ambientada en un futuro distópico donde la realidad percibida por la mayoría de los humanos es en realidad una simulación virtual llamada «Matrix», creada por máquinas inteligentes para esclavizar a la raza humana, mientras que sus cuerpos caloríficos son usados como fuente de energía. Un pirata informático llamado Neo descubre esta verdad y se ve arrastrado a una rebelión contra las máquinas, que involucra a otras personas que han sido liberadas de la Matrix.'],\n",
       " 'data': None,\n",
       " 'uris': None}"
      ]
     },
     "execution_count": 61,
     "metadata": {},
     "output_type": "execute_result"
    }
   ],
   "source": [
    "# Verificamos que la integracion este bien\n",
    "db.get()"
   ]
  },
  {
   "cell_type": "markdown",
   "metadata": {},
   "source": [
    "# reset"
   ]
  },
  {
   "cell_type": "code",
   "execution_count": 62,
   "metadata": {},
   "outputs": [
    {
     "data": {
      "text/plain": [
       "True"
      ]
     },
     "execution_count": 62,
     "metadata": {},
     "output_type": "execute_result"
    }
   ],
   "source": [
    "client.reset()"
   ]
  }
 ],
 "metadata": {
  "kernelspec": {
   "display_name": "base",
   "language": "python",
   "name": "python3"
  },
  "language_info": {
   "codemirror_mode": {
    "name": "ipython",
    "version": 3
   },
   "file_extension": ".py",
   "mimetype": "text/x-python",
   "name": "python",
   "nbconvert_exporter": "python",
   "pygments_lexer": "ipython3",
   "version": "3.11.5"
  }
 },
 "nbformat": 4,
 "nbformat_minor": 2
}
