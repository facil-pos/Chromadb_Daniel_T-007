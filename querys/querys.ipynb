{
 "cells": [
  {
   "cell_type": "markdown",
   "metadata": {},
   "source": [
    "# Conocimientos previos"
   ]
  },
  {
   "cell_type": "markdown",
   "metadata": {},
   "source": [
    "## Operaciones permitidas\n",
    "\n",
    "* $eq - igual a (cadena, int, flotante)\n",
    "* $ne - no igual a (cadena, int, flotante)\n",
    "* $gt - mayor que (int, float)\n",
    "* $gte - mayor o igual que (int, float)\n",
    "* $lt - menor que (int, float)\n",
    "* $lte - menor o igual que (int, float)"
   ]
  },
  {
   "cell_type": "markdown",
   "metadata": {},
   "source": [
    "# Configuraciones iniciales"
   ]
  },
  {
   "cell_type": "markdown",
   "metadata": {},
   "source": [
    "## Creamos el cliente con persistencia local"
   ]
  },
  {
   "cell_type": "code",
   "execution_count": 1,
   "metadata": {},
   "outputs": [],
   "source": [
    "import chromadb\n",
    "client = chromadb.PersistentClient(path=\"./data\")"
   ]
  },
  {
   "cell_type": "markdown",
   "metadata": {},
   "source": [
    "## Creamos los datos y las colecciones"
   ]
  },
  {
   "cell_type": "code",
   "execution_count": 2,
   "metadata": {},
   "outputs": [],
   "source": [
    "collection = client.get_or_create_collection(\"Peliculas\")\n",
    "\n",
    "# Creamos los documentos que vamos a agregar a la colección\n",
    "\n",
    "descripcionSrAnillos = \"El señor de los anillos: La comunidad del anillo es una película de fantasía y aventuras de 2001 dirigida por Peter Jackson y basada en el primer volumen de la novela homónima de J. R. R. Tolkien. Es la primera entrega de la trilogía cinematográfica El Señor de los Anillos, producida por New Line Cinema y protagonizada por Elijah Wood, Ian McKellen, Liv Tyler y Viggo Mortensen, entre otros. La historia se centra en el joven hobbit Frodo Bolsón, quien emprende un viaje para destruir el Anillo Único y poner fin al poder maléfico del Señor Oscuro Sauron. Se trata de la primera adaptación de la novela de Tolkien al cine, y fue escrita por Fran Walsh, Philippa Boyens, Stephen Sinclair y el propio Jackson.\"\n",
    "\n",
    "descripcionBatman = \"Batman es una película de superhéroes británico-estadounidense de 1989 dirigida por Tim Burton y producida por Jon Peters y Peter Guber, con un guion de Sam Hamm y Warren Skaaren. Está basada en el personaje homónimo de DC Comics creado por Bob Kane e interpretado por Michael Keaton. La película está protagonizada por Jack Nicholson como el Joker, Kim Basinger como Vicki Vale, Robert Wuhl como Alexander Knox y Jack Palance como Carl Grissom. La película se centra en el origen del superhéroe Batman y su lucha contra el Joker, un villano que planea dominar la ciudad de Gotham con un misterioso gas que causa risa.\"\n",
    "\n",
    "descripcionHarryPotter = \"Harry Potter y la piedra filosofal es una película de fantasía y aventuras basada en el libro homónimo de J. K. Rowling, dirigida por Chris Columbus y estrenada en 2001. Es la primera entrega de la serie de películas de Harry Potter. La película fue escrita por Steve Kloves y producida por David Heyman. La historia sigue a Harry Potter, un niño que descubre que es un mago y es enviado a estudiar a la Escuela Hogwarts de Magia y Hechicería. Allí se entera de que el mago tenebroso Lord Voldemort, que asesinó a sus padres, está vivo y planea volver al poder. La película fue distribuida por Warner Bros. Pictures y protagonizada por Daniel Radcliffe como Harry Potter, con Rupert Grint como Ron Weasley y Emma Watson como Hermione Granger.\"\n",
    "\n",
    "descripcionMatrix = \"Matrix es una película de ciencia ficción y acción estadounidense de 1999 escrita y dirigida por las hermanas Wachowski y protagonizada por Keanu Reeves, Laurence Fishburne, Carrie-Anne Moss y Hugo Weaving. Está ambientada en un futuro distópico donde la realidad percibida por la mayoría de los humanos es en realidad una simulación virtual llamada «Matrix», creada por máquinas inteligentes para esclavizar a la raza humana, mientras que sus cuerpos caloríficos son usados como fuente de energía. Un pirata informático llamado Neo descubre esta verdad y se ve arrastrado a una rebelión contra las máquinas, que involucra a otras personas que han sido liberadas de la Matrix.\"\n",
    "\n",
    "\n",
    "# Agregar documentos a la colección\n",
    "# Les agregamos un metadato de genero\n",
    "collection.add(\n",
    "    documents = [descripcionSrAnillos, descripcionBatman, descripcionHarryPotter, descripcionMatrix],\n",
    "    metadatas = [{\"genero\": \"fantasia\"},{\"genero\": \"accion\"},{'genero':'fantasia'},{'genero':'accion'}],\n",
    "    ids = [\"id1\", \"id2\", \"id3\", \"id4\"]\n",
    ")"
   ]
  },
  {
   "cell_type": "markdown",
   "metadata": {},
   "source": [
    "# Busqueda simple\n",
    "\n",
    "Buscara entro todos los documentos la respuestas"
   ]
  },
  {
   "cell_type": "code",
   "execution_count": 6,
   "metadata": {},
   "outputs": [
    {
     "data": {
      "text/plain": [
       "{'ids': [['id2', 'id1']],\n",
       " 'distances': [[1.2390178834780419, 1.3142262865123517]],\n",
       " 'metadatas': [[{'genero': 'accion'}, {'genero': 'fantasia'}]],\n",
       " 'embeddings': None,\n",
       " 'documents': [['Batman es una película de superhéroes británico-estadounidense de 1989 dirigida por Tim Burton y producida por Jon Peters y Peter Guber, con un guion de Sam Hamm y Warren Skaaren. Está basada en el personaje homónimo de DC Comics creado por Bob Kane e interpretado por Michael Keaton. La película está protagonizada por Jack Nicholson como el Joker, Kim Basinger como Vicki Vale, Robert Wuhl como Alexander Knox y Jack Palance como Carl Grissom. La película se centra en el origen del superhéroe Batman y su lucha contra el Joker, un villano que planea dominar la ciudad de Gotham con un misterioso gas que causa risa.',\n",
       "   'El señor de los anillos: La comunidad del anillo es una película de fantasía y aventuras de 2001 dirigida por Peter Jackson y basada en el primer volumen de la novela homónima de J. R. R. Tolkien. Es la primera entrega de la trilogía cinematográfica El Señor de los Anillos, producida por New Line Cinema y protagonizada por Elijah Wood, Ian McKellen, Liv Tyler y Viggo Mortensen, entre otros. La historia se centra en el joven hobbit Frodo Bolsón, quien emprende un viaje para destruir el Anillo Único y poner fin al poder maléfico del Señor Oscuro Sauron. Se trata de la primera adaptación de la novela de Tolkien al cine, y fue escrita por Fran Walsh, Philippa Boyens, Stephen Sinclair y el propio Jackson.']],\n",
       " 'uris': None,\n",
       " 'data': None}"
      ]
     },
     "execution_count": 6,
     "metadata": {},
     "output_type": "execute_result"
    }
   ],
   "source": [
    "results = collection.query(\n",
    "    query_texts=[\"Cual pelicura fue dirigida por Tim Burton?\"], # Textos de las consultas\n",
    "    n_results=2 # Cantidad de resultados que queremos\n",
    ")\n",
    "\n",
    "results"
   ]
  },
  {
   "cell_type": "markdown",
   "metadata": {},
   "source": [
    "# Busqueda por filtros\n",
    "\n",
    "Estas son busquedas sencillas donde se traen los documentos que cumplen con un filtro\n",
    "\n",
    "* ids: El id del documento a traer. Optional.\n",
    "* where: diccionario con los filtros a utilizar Ej. {\"$and\": [\"color\" : \"red\", \"price\": {\"$gte\": 4.20}]}. Optional.\n",
    "* limit: El numero limite de documentos a devulver. Optional.\n",
    "* offset: El desplazamiento a partir del cual se devolverán los resultados. Útil para paginar resultados con límite. Optional.\n",
    "* where_document: Un diccionario de tipo WhereDocument sirve para filtrar por los documentos. Ej. {$contains: {\"text\": \"hello\"}}. Optional.\n",
    "* include: Una lista de lo que debe incluirse en los resultados, los identificadores se agregas por default Ej. [\"metadatas\", \"documents\"]. Optional"
   ]
  },
  {
   "cell_type": "markdown",
   "metadata": {},
   "source": [
    "## where"
   ]
  },
  {
   "cell_type": "code",
   "execution_count": 8,
   "metadata": {},
   "outputs": [
    {
     "data": {
      "text/plain": [
       "{'ids': ['id1', 'id3'],\n",
       " 'embeddings': None,\n",
       " 'metadatas': [{'genero': 'fantasia'}, {'genero': 'fantasia'}],\n",
       " 'documents': ['El señor de los anillos: La comunidad del anillo es una película de fantasía y aventuras de 2001 dirigida por Peter Jackson y basada en el primer volumen de la novela homónima de J. R. R. Tolkien. Es la primera entrega de la trilogía cinematográfica El Señor de los Anillos, producida por New Line Cinema y protagonizada por Elijah Wood, Ian McKellen, Liv Tyler y Viggo Mortensen, entre otros. La historia se centra en el joven hobbit Frodo Bolsón, quien emprende un viaje para destruir el Anillo Único y poner fin al poder maléfico del Señor Oscuro Sauron. Se trata de la primera adaptación de la novela de Tolkien al cine, y fue escrita por Fran Walsh, Philippa Boyens, Stephen Sinclair y el propio Jackson.',\n",
       "  'Harry Potter y la piedra filosofal es una película de fantasía y aventuras basada en el libro homónimo de J. K. Rowling, dirigida por Chris Columbus y estrenada en 2001. Es la primera entrega de la serie de películas de Harry Potter. La película fue escrita por Steve Kloves y producida por David Heyman. La historia sigue a Harry Potter, un niño que descubre que es un mago y es enviado a estudiar a la Escuela Hogwarts de Magia y Hechicería. Allí se entera de que el mago tenebroso Lord Voldemort, que asesinó a sus padres, está vivo y planea volver al poder. La película fue distribuida por Warner Bros. Pictures y protagonizada por Daniel Radcliffe como Harry Potter, con Rupert Grint como Ron Weasley y Emma Watson como Hermione Granger.'],\n",
       " 'uris': None,\n",
       " 'data': None}"
      ]
     },
     "execution_count": 8,
     "metadata": {},
     "output_type": "execute_result"
    }
   ],
   "source": [
    "res_get = collection.get(where={'genero': 'fantasia'})\n",
    "res_get"
   ]
  },
  {
   "cell_type": "markdown",
   "metadata": {},
   "source": [
    "## where_document"
   ]
  },
  {
   "cell_type": "code",
   "execution_count": 14,
   "metadata": {},
   "outputs": [
    {
     "data": {
      "text/plain": [
       "{'ids': ['id3'],\n",
       " 'embeddings': None,\n",
       " 'metadatas': [{'genero': 'fantasia'}],\n",
       " 'documents': ['Harry Potter y la piedra filosofal es una película de fantasía y aventuras basada en el libro homónimo de J. K. Rowling, dirigida por Chris Columbus y estrenada en 2001. Es la primera entrega de la serie de películas de Harry Potter. La película fue escrita por Steve Kloves y producida por David Heyman. La historia sigue a Harry Potter, un niño que descubre que es un mago y es enviado a estudiar a la Escuela Hogwarts de Magia y Hechicería. Allí se entera de que el mago tenebroso Lord Voldemort, que asesinó a sus padres, está vivo y planea volver al poder. La película fue distribuida por Warner Bros. Pictures y protagonizada por Daniel Radcliffe como Harry Potter, con Rupert Grint como Ron Weasley y Emma Watson como Hermione Granger.'],\n",
       " 'uris': None,\n",
       " 'data': None}"
      ]
     },
     "execution_count": 14,
     "metadata": {},
     "output_type": "execute_result"
    }
   ],
   "source": [
    "res_get = collection.get(where_document={'$contains': 'J. K. Rowling'})\n",
    "res_get"
   ]
  },
  {
   "cell_type": "markdown",
   "metadata": {},
   "source": [
    "# Busqueda por metadata\n",
    "\n",
    "Son busquedas utilizando los metadatos como criterios en las busquedas"
   ]
  },
  {
   "cell_type": "markdown",
   "metadata": {},
   "source": [
    "## La query existe en los metadatos"
   ]
  },
  {
   "cell_type": "code",
   "execution_count": 13,
   "metadata": {},
   "outputs": [
    {
     "data": {
      "text/plain": [
       "{'ids': [['id2', 'id4']],\n",
       " 'distances': [[1.1772853285214748, 1.5846310228419147]],\n",
       " 'metadatas': [[{'genero': 'accion'}, {'genero': 'accion'}]],\n",
       " 'embeddings': None,\n",
       " 'documents': [['Batman es una película de superhéroes británico-estadounidense de 1989 dirigida por Tim Burton y producida por Jon Peters y Peter Guber, con un guion de Sam Hamm y Warren Skaaren. Está basada en el personaje homónimo de DC Comics creado por Bob Kane e interpretado por Michael Keaton. La película está protagonizada por Jack Nicholson como el Joker, Kim Basinger como Vicki Vale, Robert Wuhl como Alexander Knox y Jack Palance como Carl Grissom. La película se centra en el origen del superhéroe Batman y su lucha contra el Joker, un villano que planea dominar la ciudad de Gotham con un misterioso gas que causa risa.',\n",
       "   'Matrix es una película de ciencia ficción y acción estadounidense de 1999 escrita y dirigida por las hermanas Wachowski y protagonizada por Keanu Reeves, Laurence Fishburne, Carrie-Anne Moss y Hugo Weaving. Está ambientada en un futuro distópico donde la realidad percibida por la mayoría de los humanos es en realidad una simulación virtual llamada «Matrix», creada por máquinas inteligentes para esclavizar a la raza humana, mientras que sus cuerpos caloríficos son usados como fuente de energía. Un pirata informático llamado Neo descubre esta verdad y se ve arrastrado a una rebelión contra las máquinas, que involucra a otras personas que han sido liberadas de la Matrix.']],\n",
       " 'uris': None,\n",
       " 'data': None}"
      ]
     },
     "execution_count": 13,
     "metadata": {},
     "output_type": "execute_result"
    }
   ],
   "source": [
    "results = collection.query(\n",
    "    query_texts=[\"Tim Burton fue el direcctor?\"], # Textos de las consultas\n",
    "    n_results=2, # Cantidad de resultados que queremos\n",
    "    where={'genero': 'accion'}\n",
    ")\n",
    "\n",
    "results"
   ]
  },
  {
   "cell_type": "markdown",
   "metadata": {},
   "source": [
    "## La query no existe en los metadatos"
   ]
  },
  {
   "cell_type": "code",
   "execution_count": 12,
   "metadata": {},
   "outputs": [
    {
     "data": {
      "text/plain": [
       "{'ids': [['id1', 'id3']],\n",
       " 'distances': [[1.2061171561636828, 1.4691058336802936]],\n",
       " 'metadatas': [[{'genero': 'fantasia'}, {'genero': 'fantasia'}]],\n",
       " 'embeddings': None,\n",
       " 'documents': [['El señor de los anillos: La comunidad del anillo es una película de fantasía y aventuras de 2001 dirigida por Peter Jackson y basada en el primer volumen de la novela homónima de J. R. R. Tolkien. Es la primera entrega de la trilogía cinematográfica El Señor de los Anillos, producida por New Line Cinema y protagonizada por Elijah Wood, Ian McKellen, Liv Tyler y Viggo Mortensen, entre otros. La historia se centra en el joven hobbit Frodo Bolsón, quien emprende un viaje para destruir el Anillo Único y poner fin al poder maléfico del Señor Oscuro Sauron. Se trata de la primera adaptación de la novela de Tolkien al cine, y fue escrita por Fran Walsh, Philippa Boyens, Stephen Sinclair y el propio Jackson.',\n",
       "   'Harry Potter y la piedra filosofal es una película de fantasía y aventuras basada en el libro homónimo de J. K. Rowling, dirigida por Chris Columbus y estrenada en 2001. Es la primera entrega de la serie de películas de Harry Potter. La película fue escrita por Steve Kloves y producida por David Heyman. La historia sigue a Harry Potter, un niño que descubre que es un mago y es enviado a estudiar a la Escuela Hogwarts de Magia y Hechicería. Allí se entera de que el mago tenebroso Lord Voldemort, que asesinó a sus padres, está vivo y planea volver al poder. La película fue distribuida por Warner Bros. Pictures y protagonizada por Daniel Radcliffe como Harry Potter, con Rupert Grint como Ron Weasley y Emma Watson como Hermione Granger.']],\n",
       " 'uris': None,\n",
       " 'data': None}"
      ]
     },
     "execution_count": 12,
     "metadata": {},
     "output_type": "execute_result"
    }
   ],
   "source": [
    "results = collection.query(\n",
    "    query_texts=[\"Tim Burton fue el direcctor?\"], # Textos de las consultas\n",
    "    n_results=2, # Cantidad de resultados que queremos\n",
    "    where={'genero': 'fantasia'}\n",
    ")\n",
    "\n",
    "results"
   ]
  }
 ],
 "metadata": {
  "kernelspec": {
   "display_name": "base",
   "language": "python",
   "name": "python3"
  },
  "language_info": {
   "codemirror_mode": {
    "name": "ipython",
    "version": 3
   },
   "file_extension": ".py",
   "mimetype": "text/x-python",
   "name": "python",
   "nbconvert_exporter": "python",
   "pygments_lexer": "ipython3",
   "version": "3.11.5"
  }
 },
 "nbformat": 4,
 "nbformat_minor": 2
}
