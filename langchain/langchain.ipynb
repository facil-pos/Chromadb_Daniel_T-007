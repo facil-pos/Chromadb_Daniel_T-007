{
 "cells": [
  {
   "cell_type": "markdown",
   "metadata": {},
   "source": [
    "# Instalacion de paquetes necesarios"
   ]
  },
  {
   "cell_type": "code",
   "execution_count": null,
   "metadata": {},
   "outputs": [],
   "source": [
    "!pip install langchain chromadb pypdf"
   ]
  },
  {
   "cell_type": "markdown",
   "metadata": {},
   "source": [
    "# Caso de uso\n",
    "\n",
    "Vamos a cargar un pdf con el manual del juego magin al cual le realizaremos algunas preguntas"
   ]
  },
  {
   "cell_type": "markdown",
   "metadata": {},
   "source": [
    "## importacion de paquetes necesarios"
   ]
  },
  {
   "cell_type": "code",
   "execution_count": 1,
   "metadata": {},
   "outputs": [],
   "source": [
    "from langchain.document_loaders import PyPDFLoader\n",
    "from langchain.text_splitter import CharacterTextSplitter\n",
    "from langchain.embeddings import HuggingFaceEmbeddings\n",
    "from langchain.vectorstores import Chroma"
   ]
  },
  {
   "cell_type": "markdown",
   "metadata": {},
   "source": [
    "## Cargamos el documento pdf"
   ]
  },
  {
   "cell_type": "code",
   "execution_count": 3,
   "metadata": {},
   "outputs": [],
   "source": [
    "loader = PyPDFLoader(\".\\Doc\\mtg.pdf\")\n",
    "pages = loader.load_and_split()"
   ]
  },
  {
   "cell_type": "code",
   "execution_count": 4,
   "metadata": {},
   "outputs": [
    {
     "data": {
      "text/plain": [
       "'Jasper SandnerC 214/ 269 2/1Oo2\\n™ & © 2014 Wizards of the CoastSP• M15Campo de \\nbatallatú \\n16 vidas\\nrestantes\\nyo\\n18 vidas \\nrestantesCementerio  Biblioteca  \\nBiblioteca  Mano\\nManoCementerio  \\n3Para comenzar el juego, baraja tu mazo, \\ntambién conocido como tu biblioteca. Roba una mano de siete cartas y comprueba cuántas tierras tienes. Puedes mirar la línea de texto que hay bajo la ilustración de cada carta para ver de qué tipo de carta se trata. Para este primer juego, si no tienes al menos dos tierras, baraja de nuevo tu mazo (incluyendo tu mano anterior) y roba una mano nueva.\\nCada jugador comienza con 20 vidas, \\ny cada uno debe llevar la cuenta de su total de vidas de alguna manera (con un dado, lápiz y papel...). ¡Reduce el total de vidas de tu oponente a 0 y ganarás el juego!Comenzar'"
      ]
     },
     "execution_count": 4,
     "metadata": {},
     "output_type": "execute_result"
    }
   ],
   "source": [
    "# Un elemento por cada página\n",
    "pages[3].page_content"
   ]
  },
  {
   "cell_type": "code",
   "execution_count": 5,
   "metadata": {},
   "outputs": [],
   "source": [
    "# Objeto que va a hacer los cortes en el texto\n",
    "split = CharacterTextSplitter(chunk_size=240, separator = '.\\n')"
   ]
  },
  {
   "cell_type": "code",
   "execution_count": 6,
   "metadata": {},
   "outputs": [
    {
     "name": "stderr",
     "output_type": "stream",
     "text": [
      "Created a chunk of size 288, which is longer than the specified 240\n",
      "Created a chunk of size 364, which is longer than the specified 240\n",
      "Created a chunk of size 326, which is longer than the specified 240\n",
      "Created a chunk of size 325, which is longer than the specified 240\n",
      "Created a chunk of size 503, which is longer than the specified 240\n",
      "Created a chunk of size 1507, which is longer than the specified 240\n",
      "Created a chunk of size 308, which is longer than the specified 240\n",
      "Created a chunk of size 583, which is longer than the specified 240\n",
      "Created a chunk of size 458, which is longer than the specified 240\n",
      "Created a chunk of size 429, which is longer than the specified 240\n",
      "Created a chunk of size 626, which is longer than the specified 240\n",
      "Created a chunk of size 358, which is longer than the specified 240\n",
      "Created a chunk of size 892, which is longer than the specified 240\n",
      "Created a chunk of size 1311, which is longer than the specified 240\n",
      "Created a chunk of size 333, which is longer than the specified 240\n",
      "Created a chunk of size 1139, which is longer than the specified 240\n",
      "Created a chunk of size 269, which is longer than the specified 240\n",
      "Created a chunk of size 568, which is longer than the specified 240\n",
      "Created a chunk of size 916, which is longer than the specified 240\n",
      "Created a chunk of size 619, which is longer than the specified 240\n",
      "Created a chunk of size 272, which is longer than the specified 240\n",
      "Created a chunk of size 910, which is longer than the specified 240\n",
      "Created a chunk of size 742, which is longer than the specified 240\n",
      "Created a chunk of size 1074, which is longer than the specified 240\n",
      "Created a chunk of size 706, which is longer than the specified 240\n",
      "Created a chunk of size 538, which is longer than the specified 240\n",
      "Created a chunk of size 427, which is longer than the specified 240\n",
      "Created a chunk of size 324, which is longer than the specified 240\n",
      "Created a chunk of size 867, which is longer than the specified 240\n",
      "Created a chunk of size 644, which is longer than the specified 240\n",
      "Created a chunk of size 447, which is longer than the specified 240\n",
      "Created a chunk of size 262, which is longer than the specified 240\n",
      "Created a chunk of size 304, which is longer than the specified 240\n",
      "Created a chunk of size 248, which is longer than the specified 240\n",
      "Created a chunk of size 440, which is longer than the specified 240\n",
      "Created a chunk of size 242, which is longer than the specified 240\n",
      "Created a chunk of size 283, which is longer than the specified 240\n",
      "Created a chunk of size 244, which is longer than the specified 240\n",
      "Created a chunk of size 315, which is longer than the specified 240\n",
      "Created a chunk of size 376, which is longer than the specified 240\n",
      "Created a chunk of size 285, which is longer than the specified 240\n",
      "Created a chunk of size 506, which is longer than the specified 240\n",
      "Created a chunk of size 299, which is longer than the specified 240\n",
      "Created a chunk of size 387, which is longer than the specified 240\n",
      "Created a chunk of size 309, which is longer than the specified 240\n",
      "Created a chunk of size 277, which is longer than the specified 240\n",
      "Created a chunk of size 298, which is longer than the specified 240\n",
      "Created a chunk of size 273, which is longer than the specified 240\n",
      "Created a chunk of size 279, which is longer than the specified 240\n",
      "Created a chunk of size 319, which is longer than the specified 240\n",
      "Created a chunk of size 243, which is longer than the specified 240\n",
      "Created a chunk of size 414, which is longer than the specified 240\n"
     ]
    }
   ],
   "source": [
    "textos = split.split_documents(pages) # Lista de textos"
   ]
  },
  {
   "cell_type": "code",
   "execution_count": 7,
   "metadata": {},
   "outputs": [
    {
     "data": {
      "text/plain": [
       "Document(page_content='Guía de inicio \\nrápidoEdad: 13 o +', metadata={'source': '.\\\\Doc\\\\mtg.pdf', 'page': 0})"
      ]
     },
     "execution_count": 7,
     "metadata": {},
     "output_type": "execute_result"
    }
   ],
   "source": [
    "textos[0].page_content # Texto de la primera página\n",
    "textos[0] # Objeto de tipo Texto"
   ]
  },
  {
   "cell_type": "markdown",
   "metadata": {},
   "source": [
    "## Carga motor de embedding"
   ]
  },
  {
   "cell_type": "code",
   "execution_count": 2,
   "metadata": {},
   "outputs": [],
   "source": [
    "embedding_function = HuggingFaceEmbeddings(model_name=\"all-MiniLM-L6-v2\")\n",
    "# Equivalent to SentenceTransformerEmbeddings(model_name=\"all-MiniLM-L6-v2\")"
   ]
  },
  {
   "cell_type": "markdown",
   "metadata": {},
   "source": [
    "## Base de datos\n",
    "\n",
    "Esta base de datos cuenta con persistencia de datos locales en el directorio `./datamtg`"
   ]
  },
  {
   "cell_type": "markdown",
   "metadata": {},
   "source": [
    "### Guardar en el local"
   ]
  },
  {
   "cell_type": "code",
   "execution_count": 148,
   "metadata": {},
   "outputs": [],
   "source": [
    "db = Chroma.from_documents(textos, embedding_function,  persist_directory=\"./datamtg\")"
   ]
  },
  {
   "cell_type": "markdown",
   "metadata": {},
   "source": [
    "### Cargar base de datos"
   ]
  },
  {
   "cell_type": "code",
   "execution_count": 3,
   "metadata": {},
   "outputs": [],
   "source": [
    "db = Chroma(persist_directory=\"./datamtg\", embedding_function=embedding_function)"
   ]
  },
  {
   "cell_type": "markdown",
   "metadata": {},
   "source": [
    "## consultas"
   ]
  },
  {
   "cell_type": "markdown",
   "metadata": {},
   "source": [
    "### Consulta simple"
   ]
  },
  {
   "cell_type": "code",
   "execution_count": 5,
   "metadata": {},
   "outputs": [
    {
     "data": {
      "text/plain": [
       "[Document(page_content='Cada jugador comienza con 20 vidas, \\ny cada uno debe llevar la cuenta de su total de vidas de alguna manera (con un dado, lápiz y papel...). ¡Reduce el total de vidas de tu oponente a 0 y ganarás el juego!Comenzar', metadata={'page': 2, 'source': '.\\\\Doc\\\\mtg.pdf'}),\n",
       " Document(page_content='Cada jugador comienza con 20 vidas, \\ny cada uno debe llevar la cuenta de su total de vidas de alguna manera (con un dado, lápiz y papel...). ¡Reduce el total de vidas de tu oponente a 0 y ganarás el juego!Comenzar', metadata={'page': 2, 'source': '.\\\\Doc\\\\mtg.pdf'}),\n",
       " Document(page_content='∙Paso de final del combate.\\nFase principal (de nuevo)\\n Puedes jugar una tierra si aún no has jugado ninguna.  \\nPuedes lanzar hechizos', metadata={'page': 15, 'source': '.\\\\Doc\\\\mtg.pdf'}),\n",
       " Document(page_content='∙Paso de final del combate.\\nFase principal (de nuevo)\\n Puedes jugar una tierra si aún no has jugado ninguna.  \\nPuedes lanzar hechizos', metadata={'page': 15, 'source': '.\\\\Doc\\\\mtg.pdf'})]"
      ]
     },
     "execution_count": 5,
     "metadata": {},
     "output_type": "execute_result"
    }
   ],
   "source": [
    "query = \"Con cuanta vida empiezan los jugadores?\"\n",
    "docs = db.similarity_search(query)\n",
    "docs"
   ]
  },
  {
   "cell_type": "markdown",
   "metadata": {},
   "source": [
    "### Comsulta con puntajes\n",
    "\n",
    "El puntaje mas pequeño es el mejor"
   ]
  },
  {
   "cell_type": "code",
   "execution_count": 6,
   "metadata": {},
   "outputs": [
    {
     "data": {
      "text/plain": [
       "[(Document(page_content='Cada jugador comienza con 20 vidas, \\ny cada uno debe llevar la cuenta de su total de vidas de alguna manera (con un dado, lápiz y papel...). ¡Reduce el total de vidas de tu oponente a 0 y ganarás el juego!Comenzar', metadata={'page': 2, 'source': '.\\\\Doc\\\\mtg.pdf'}),\n",
       "  0.6259155869483948),\n",
       " (Document(page_content='Cada jugador comienza con 20 vidas, \\ny cada uno debe llevar la cuenta de su total de vidas de alguna manera (con un dado, lápiz y papel...). ¡Reduce el total de vidas de tu oponente a 0 y ganarás el juego!Comenzar', metadata={'page': 2, 'source': '.\\\\Doc\\\\mtg.pdf'}),\n",
       "  0.6259155869483948),\n",
       " (Document(page_content='∙Paso de final del combate.\\nFase principal (de nuevo)\\n Puedes jugar una tierra si aún no has jugado ninguna.  \\nPuedes lanzar hechizos', metadata={'page': 15, 'source': '.\\\\Doc\\\\mtg.pdf'}),\n",
       "  0.7695561647415161),\n",
       " (Document(page_content='∙Paso de final del combate.\\nFase principal (de nuevo)\\n Puedes jugar una tierra si aún no has jugado ninguna.  \\nPuedes lanzar hechizos', metadata={'page': 15, 'source': '.\\\\Doc\\\\mtg.pdf'}),\n",
       "  0.7695561978820135)]"
      ]
     },
     "execution_count": 6,
     "metadata": {},
     "output_type": "execute_result"
    }
   ],
   "source": [
    "query = \"Con cuanta vida empiezan los jugadores?\"\n",
    "docs = db.similarity_search_with_score(query)\n",
    "docs"
   ]
  },
  {
   "cell_type": "markdown",
   "metadata": {},
   "source": [
    "# Operaciones"
   ]
  },
  {
   "cell_type": "markdown",
   "metadata": {},
   "source": [
    "## Listar colecciones"
   ]
  },
  {
   "cell_type": "code",
   "execution_count": null,
   "metadata": {},
   "outputs": [],
   "source": [
    "colecciones = db._collection.get()\n",
    "\n",
    "colecciones"
   ]
  },
  {
   "cell_type": "code",
   "execution_count": null,
   "metadata": {},
   "outputs": [],
   "source": [
    "colecciones = db.get()\n",
    "\n",
    "colecciones"
   ]
  },
  {
   "cell_type": "markdown",
   "metadata": {},
   "source": [
    "## Filtros\n",
    "\n",
    "Al igual que en su cliente chromaDB permite usar los siguientes filtros\n",
    "\n",
    "* ids: El id del documento a traer. Optional.\n",
    "* where: diccionario con los filtros a utilizar Ej. {\"$and\": [\"color\" : \"red\", \"price\": {\"$gte\": 4.20}]}. Optional.\n",
    "* limit: El numero limite de documentos a devulver. Optional.\n",
    "* offset: El desplazamiento a partir del cual se devolverán los resultados. Útil para paginar resultados con límite. Optional.\n",
    "* where_document: Un diccionario de tipo WhereDocument sirve para filtrar por los documentos. Ej. {$contains: {\"text\": \"hello\"}}. Optional.\n",
    "* include: Una lista de lo que debe incluirse en los resultados, los identificadores se agregas por default Ej. [\"metadatas\", \"documents\"]. Optional"
   ]
  },
  {
   "cell_type": "markdown",
   "metadata": {},
   "source": [
    "### Filtrar por metadata\n",
    "\n",
    "para filtrar por metadata utilizaremos where y estas son las operaciones permitidas\n",
    "\n",
    "* $eq - igual a (cadena, int, flotante)\n",
    "* $ne - no igual a (cadena, int, flotante)\n",
    "* $gt - mayor que (int, float)\n",
    "* $gte - mayor o igual que (int, float)\n",
    "* $lt - menor que (int, float)\n",
    "* $lte - menor o igual que (int, float)"
   ]
  },
  {
   "cell_type": "code",
   "execution_count": 96,
   "metadata": {},
   "outputs": [
    {
     "data": {
      "text/plain": [
       "{'ids': ['5c199552-9a8c-11ee-b2eb-d45d64279660',\n",
       "  '5c199553-9a8c-11ee-bd63-d45d64279660',\n",
       "  '5c199554-9a8c-11ee-8c0b-d45d64279660',\n",
       "  '5c199555-9a8c-11ee-ba11-d45d64279660',\n",
       "  'a6357b9e-9a8e-11ee-bce5-d45d64279660',\n",
       "  'a6357b9f-9a8e-11ee-a9d8-d45d64279660',\n",
       "  'a6357ba0-9a8e-11ee-9334-d45d64279660',\n",
       "  'a6357ba1-9a8e-11ee-beee-d45d64279660'],\n",
       " 'embeddings': None,\n",
       " 'metadatas': [{'page': 3, 'source': '.\\\\Doc\\\\mtg.pdf'},\n",
       "  {'page': 3, 'source': '.\\\\Doc\\\\mtg.pdf'},\n",
       "  {'page': 3, 'source': '.\\\\Doc\\\\mtg.pdf'},\n",
       "  {'page': 3, 'source': '.\\\\Doc\\\\mtg.pdf'},\n",
       "  {'page': 3, 'source': '.\\\\Doc\\\\mtg.pdf'},\n",
       "  {'page': 3, 'source': '.\\\\Doc\\\\mtg.pdf'},\n",
       "  {'page': 3, 'source': '.\\\\Doc\\\\mtg.pdf'},\n",
       "  {'page': 3, 'source': '.\\\\Doc\\\\mtg.pdf'}],\n",
       " 'documents': ['Tierra básica — BosqueBosque\\nJonas De RoL269/ 269\\nSP• M15™ & © 2014 Wizards of the Coast\\nLlanura oW (blanco)\\nIsla oU (azul)\\nPantano oB (negro)\\nMontaña oR (rojo)\\nBosque oG (verde)Maná que produce\\n Tipo de tierra básica\\n4Tu mazo incluye tierras y criaturas, ¡pero también puede incluir conjuros, instantáneos, artefactos, \\nencantamientos y planeswalkers! En las próximas páginas echaremos un vistazo a los distintos tipos de cartas y a la manera de utilizarlos',\n",
       "  'Las cartas de tierra son los cimientos de todo mazo efectivo de \\nMagic. Las tierras proporcionan maná, la energía mágica que \\nnecesitas para lanzar todas las demás cartas de tu mazo. Puedes \\njugar una tierra durante la fase principal de cada uno de tus turnos. \\nLas tierras permanecen en el campo de batalla delante de ti y se enderezan (se restablecen) al comienzo de cada uno de tus turnos \\npara que puedas utilizarlas de nuevo',\n",
       "  'Hay cinco tipos de tierra básica; cada uno corresponde a uno de \\nlos cinco colores de la magia. Cada color tiene sus puntos fuertes y \\ndébiles, que irás conociendo a medida que juegues',\n",
       "  'No todas las tierras son tierras básicas. Algunas tierras no básicas \\nse giran para obtener varios colores de maná, mientras que otras lo hacen para producir maná incoloro (o1, o2, etc.), pero tienen \\nhabilidades únicas.Tipos de cartas \\nTierras',\n",
       "  'Tierra básica — BosqueBosque\\nJonas De RoL269/ 269\\nSP• M15™ & © 2014 Wizards of the Coast\\nLlanura oW (blanco)\\nIsla oU (azul)\\nPantano oB (negro)\\nMontaña oR (rojo)\\nBosque oG (verde)Maná que produce\\n Tipo de tierra básica\\n4Tu mazo incluye tierras y criaturas, ¡pero también puede incluir conjuros, instantáneos, artefactos, \\nencantamientos y planeswalkers! En las próximas páginas echaremos un vistazo a los distintos tipos de cartas y a la manera de utilizarlos',\n",
       "  'Las cartas de tierra son los cimientos de todo mazo efectivo de \\nMagic. Las tierras proporcionan maná, la energía mágica que \\nnecesitas para lanzar todas las demás cartas de tu mazo. Puedes \\njugar una tierra durante la fase principal de cada uno de tus turnos. \\nLas tierras permanecen en el campo de batalla delante de ti y se enderezan (se restablecen) al comienzo de cada uno de tus turnos \\npara que puedas utilizarlas de nuevo',\n",
       "  'Hay cinco tipos de tierra básica; cada uno corresponde a uno de \\nlos cinco colores de la magia. Cada color tiene sus puntos fuertes y \\ndébiles, que irás conociendo a medida que juegues',\n",
       "  'No todas las tierras son tierras básicas. Algunas tierras no básicas \\nse giran para obtener varios colores de maná, mientras que otras lo hacen para producir maná incoloro (o1, o2, etc.), pero tienen \\nhabilidades únicas.Tipos de cartas \\nTierras'],\n",
       " 'uris': None,\n",
       " 'data': None}"
      ]
     },
     "execution_count": 96,
     "metadata": {},
     "output_type": "execute_result"
    }
   ],
   "source": [
    "# Filtrar todas las colecciones que no sean la de la página 3\n",
    "db.get(where={'page': 3 })"
   ]
  },
  {
   "cell_type": "markdown",
   "metadata": {},
   "source": [
    "### Filtros por documento\n",
    "\n",
    "Podemos filtrar por el contenido de un documento utilizando ``where_document``"
   ]
  },
  {
   "cell_type": "code",
   "execution_count": 147,
   "metadata": {},
   "outputs": [
    {
     "data": {
      "text/plain": [
       "{'ids': ['2e72ab19-9a9e-11ee-8f1d-d45d64279660'],\n",
       " 'embeddings': None,\n",
       " 'metadatas': [{'page': 2, 'source': '.\\\\Doc\\\\mtg.pdf'}],\n",
       " 'documents': ['Jasper SandnerC 214/ 269 2/1Oo2\\n™ & © 2014 Wizards of the CoastSP• M15Campo de \\nbatallatú \\n16 vidas\\nrestantes\\nyo\\n18 vidas \\nrestantesCementerio  Biblioteca  \\nBiblioteca  Mano\\nManoCementerio  \\n3Para comenzar el juego, baraja tu mazo, \\ntambién conocido como tu biblioteca. Roba una mano de siete cartas y comprueba cuántas tierras tienes. Puedes mirar la línea de texto que hay bajo la ilustración de cada carta para ver de qué tipo de carta se trata. Para este primer juego, si no tienes al menos dos tierras, baraja de nuevo tu mazo (incluyendo tu mano anterior) y roba una mano nueva'],\n",
       " 'uris': None,\n",
       " 'data': None}"
      ]
     },
     "execution_count": 147,
     "metadata": {},
     "output_type": "execute_result"
    }
   ],
   "source": [
    "# Filtrar todos los documentos que contengan la palabra \"Para comenzar el juego\"\n",
    "\n",
    "db.get(where_document={'$contains': 'Para comenzar el juego' })"
   ]
  },
  {
   "cell_type": "markdown",
   "metadata": {},
   "source": [
    "### Usar tanto where como where_document"
   ]
  },
  {
   "cell_type": "code",
   "execution_count": 124,
   "metadata": {},
   "outputs": [
    {
     "data": {
      "text/plain": [
       "{'ids': ['5c19955d-9a8c-11ee-9809-d45d64279660',\n",
       "  '5c19955e-9a8c-11ee-a402-d45d64279660',\n",
       "  '5c19955f-9a8c-11ee-9908-d45d64279660',\n",
       "  '5c199563-9a8c-11ee-9f9e-d45d64279660',\n",
       "  'a6357ba9-9a8e-11ee-9df2-d45d64279660',\n",
       "  'a6357baa-9a8e-11ee-b548-d45d64279660',\n",
       "  'a6357bab-9a8e-11ee-951e-d45d64279660',\n",
       "  'a6357baf-9a8e-11ee-98f3-d45d64279660'],\n",
       " 'embeddings': None,\n",
       " 'metadatas': [{'page': 4, 'source': '.\\\\Doc\\\\mtg.pdf'},\n",
       "  {'page': 4, 'source': '.\\\\Doc\\\\mtg.pdf'},\n",
       "  {'page': 4, 'source': '.\\\\Doc\\\\mtg.pdf'},\n",
       "  {'page': 5, 'source': '.\\\\Doc\\\\mtg.pdf'},\n",
       "  {'page': 4, 'source': '.\\\\Doc\\\\mtg.pdf'},\n",
       "  {'page': 4, 'source': '.\\\\Doc\\\\mtg.pdf'},\n",
       "  {'page': 4, 'source': '.\\\\Doc\\\\mtg.pdf'},\n",
       "  {'page': 5, 'source': '.\\\\Doc\\\\mtg.pdf'}],\n",
       " 'documents': ['“Y si miento… ”, comenzó a decir.ArtefactoMeteorito\\nScott MurphyU\\n221/ 269Oo5\\nSP•M15™ & © 2014 Wizards of the Coast\\n5Cualquier carta que no sea una tierra puede lanzarse como un hechizo. Algunos \\ntipos de hechizos se ponen en el campo de batalla y se convierten en “permanentes” . Los demás producen su efecto y luego van a tu cementerio (montón de descarte)',\n",
       "  'Criaturas  \\nLas criaturas son permanentes que representan a tus siervos. Durante \\nel combate, pueden atacar a tus oponentes y defenderte de sus ataques. Puedes lanzar hechizos de criatura durante tu fase principal',\n",
       "  'Conjuros e instantáneos\\nLos hechizos de conjuro y de instantáneo representan \\npoderosos sortilegios que pueden tener una amplia variedad de efectos. En \\ncuanto esos efectos suceden, estos hechizos van a tu cementerio. Solo puedes lanzar un conjuro durante tu fase principal, en el mismo momento en que lanzas criaturas y otros hechizos permanentes. Sin embargo, puedes lanzar un instantáneo casi en cualquier momento: durante el turno de otro jugador. . .  ¡o incluso en respuesta a otro hechizo!Artefactos y encantamientos\\nLos artefactos y los encantamientos son \\npermanentes que representan objetos mágicos y manifestaciones \\nmágicas estables. La mayoría de artefactos son incoloros, lo que \\nsignifica que no es necesario un color específico de maná para \\nlanzarlos. Algunos artefactos son también criaturas. Puedes lanzar \\nhechizos de artefacto y de encantamiento durante tu fase principal',\n",
       "  'Es el señor indisputable de las montañas \\nde Shiv.Criatura — DragónDragón shivano\\nDonato GiancolaR281/ 2695/5OOOo4oRoR\\n™ & © 2014 Wizards of the Coast\\nSP•M156Cuando quieras pagar un coste de maná, gira (pon de lado) las cartas necesarias \\ndel campo de batalla. Esto muestra que has utilizado esas tierras para producir maná. Las cartas giradas se enderezan al comienzo de cada uno de tus turnos, por lo que estarán listas para utilizarlas de nuevo. Para lanzar el Dragón shivano debes girar dos montañas, que producirán manás rojos, y cuatro tierras más. Esas cuatro tierras pueden ser montañas, bosques o cualquier otra combinación de tierras.Lanzar hechizos\\nTodas las cartas (excepto las de tierra) tienen un coste de maná en la esquina superior derecha. El coste está formado por símbolos que te indican qué clase de maná has de gastar para lanzar ese hechizo. \\nDebes pagar manás por cada uno de esos \\nsímbolos para poder lanzar el Dragón shivano. El símbolo oR significa un maná rojo. El símbolo o4 significa cuatro manás de cualquier tipo. Por lo tanto, debes pagar dos manás rojos y cuatro manás de cualquier tipo para pagar su coste',\n",
       "  '“Y si miento… ”, comenzó a decir.ArtefactoMeteorito\\nScott MurphyU\\n221/ 269Oo5\\nSP•M15™ & © 2014 Wizards of the Coast\\n5Cualquier carta que no sea una tierra puede lanzarse como un hechizo. Algunos \\ntipos de hechizos se ponen en el campo de batalla y se convierten en “permanentes” . Los demás producen su efecto y luego van a tu cementerio (montón de descarte)',\n",
       "  'Criaturas  \\nLas criaturas son permanentes que representan a tus siervos. Durante \\nel combate, pueden atacar a tus oponentes y defenderte de sus ataques. Puedes lanzar hechizos de criatura durante tu fase principal',\n",
       "  'Conjuros e instantáneos\\nLos hechizos de conjuro y de instantáneo representan \\npoderosos sortilegios que pueden tener una amplia variedad de efectos. En \\ncuanto esos efectos suceden, estos hechizos van a tu cementerio. Solo puedes lanzar un conjuro durante tu fase principal, en el mismo momento en que lanzas criaturas y otros hechizos permanentes. Sin embargo, puedes lanzar un instantáneo casi en cualquier momento: durante el turno de otro jugador. . .  ¡o incluso en respuesta a otro hechizo!Artefactos y encantamientos\\nLos artefactos y los encantamientos son \\npermanentes que representan objetos mágicos y manifestaciones \\nmágicas estables. La mayoría de artefactos son incoloros, lo que \\nsignifica que no es necesario un color específico de maná para \\nlanzarlos. Algunos artefactos son también criaturas. Puedes lanzar \\nhechizos de artefacto y de encantamiento durante tu fase principal',\n",
       "  'Es el señor indisputable de las montañas \\nde Shiv.Criatura — DragónDragón shivano\\nDonato GiancolaR281/ 2695/5OOOo4oRoR\\n™ & © 2014 Wizards of the Coast\\nSP•M156Cuando quieras pagar un coste de maná, gira (pon de lado) las cartas necesarias \\ndel campo de batalla. Esto muestra que has utilizado esas tierras para producir maná. Las cartas giradas se enderezan al comienzo de cada uno de tus turnos, por lo que estarán listas para utilizarlas de nuevo. Para lanzar el Dragón shivano debes girar dos montañas, que producirán manás rojos, y cuatro tierras más. Esas cuatro tierras pueden ser montañas, bosques o cualquier otra combinación de tierras.Lanzar hechizos\\nTodas las cartas (excepto las de tierra) tienen un coste de maná en la esquina superior derecha. El coste está formado por símbolos que te indican qué clase de maná has de gastar para lanzar ese hechizo. \\nDebes pagar manás por cada uno de esos \\nsímbolos para poder lanzar el Dragón shivano. El símbolo oR significa un maná rojo. El símbolo o4 significa cuatro manás de cualquier tipo. Por lo tanto, debes pagar dos manás rojos y cuatro manás de cualquier tipo para pagar su coste'],\n",
       " 'uris': None,\n",
       " 'data': None}"
      ]
     },
     "execution_count": 124,
     "metadata": {},
     "output_type": "execute_result"
    }
   ],
   "source": [
    "#Creamos la consulta\n",
    "\n",
    "# Consulta para filtrar todos los documentos que no sean mayores o iguales a 2 , menores o iguales a 5 y que contengan la palabra \"hechizos\"\n",
    "\n",
    "db.get(where={'$and' : [\n",
    "    { 'page' : {'$gte': 2}},\n",
    "    {'page' : {'$lte': 5 }}\n",
    "]}, where_document={'$contains': 'hechizos' })"
   ]
  },
  {
   "cell_type": "markdown",
   "metadata": {},
   "source": [
    "## Actualizacion de documento\n",
    "\n",
    "Vamos actualizar los metadatos del primer indice del resultado"
   ]
  },
  {
   "cell_type": "code",
   "execution_count": 80,
   "metadata": {},
   "outputs": [],
   "source": [
    "# Obtenemos el texto de la página\n",
    "text = docs[0].page_content"
   ]
  },
  {
   "cell_type": "code",
   "execution_count": 88,
   "metadata": {},
   "outputs": [],
   "source": [
    "# Obtenemos su id correspondiente en la base de datos\n",
    "idtoUpdate = db.get(where_document={'$contains': '{}'.format(text) })['ids'][0]"
   ]
  },
  {
   "cell_type": "code",
   "execution_count": 89,
   "metadata": {},
   "outputs": [],
   "source": [
    "# Del resultado modificamos los metadatos\n",
    "\n",
    "docs[0].metadata = {'page': 2, 'source': '.\\\\Doc\\\\mtg.pdf', 'category': 'mtg_rules'}"
   ]
  },
  {
   "cell_type": "code",
   "execution_count": 90,
   "metadata": {},
   "outputs": [],
   "source": [
    "# Actualiza el documento en ChromaDB\n",
    "db.update_document(idtoUpdate, docs[0])"
   ]
  },
  {
   "cell_type": "code",
   "execution_count": 92,
   "metadata": {},
   "outputs": [
    {
     "data": {
      "text/plain": [
       "{'ids': ['5c199551-9a8c-11ee-b6f7-d45d64279660',\n",
       "  'a6357b9d-9a8e-11ee-8d58-d45d64279660'],\n",
       " 'embeddings': None,\n",
       " 'metadatas': [{'category': 'mtg_rules',\n",
       "   'page': 2,\n",
       "   'source': '.\\\\Doc\\\\mtg.pdf'},\n",
       "  {'page': 2, 'source': '.\\\\Doc\\\\mtg.pdf'}],\n",
       " 'documents': ['Cada jugador comienza con 20 vidas, \\ny cada uno debe llevar la cuenta de su total de vidas de alguna manera (con un dado, lápiz y papel...). ¡Reduce el total de vidas de tu oponente a 0 y ganarás el juego!Comenzar',\n",
       "  'Cada jugador comienza con 20 vidas, \\ny cada uno debe llevar la cuenta de su total de vidas de alguna manera (con un dado, lápiz y papel...). ¡Reduce el total de vidas de tu oponente a 0 y ganarás el juego!Comenzar'],\n",
       " 'uris': None,\n",
       " 'data': None}"
      ]
     },
     "execution_count": 92,
     "metadata": {},
     "output_type": "execute_result"
    }
   ],
   "source": [
    "# Verificamos que se haya actualizado\n",
    "db.get(where_document={'$contains': '{}'.format(text) })"
   ]
  },
  {
   "cell_type": "markdown",
   "metadata": {},
   "source": [
    "## Eliminar documentos\n",
    "\n",
    "Vamos a eliminar un documento, esta accion se puede hacer tanto con los ids como los demas datos del documento y incluso una consulta\n",
    "\n",
    "En este caso vamos a eliminar todos los documentos que cumplan con nuestra clusula where"
   ]
  },
  {
   "cell_type": "code",
   "execution_count": 125,
   "metadata": {},
   "outputs": [
    {
     "name": "stdout",
     "output_type": "stream",
     "text": [
      "antes de la eliminacion 236\n"
     ]
    }
   ],
   "source": [
    "print(\"antes de la eliminacion\", db._collection.count())"
   ]
  },
  {
   "cell_type": "code",
   "execution_count": 126,
   "metadata": {},
   "outputs": [],
   "source": [
    "db._collection.delete(where={'$and' : [\n",
    "    { 'page' : {'$gte': 2}},\n",
    "    {'page' : {'$lte': 5 }}\n",
    "]}, where_document={'$contains': 'hechizos' })"
   ]
  },
  {
   "cell_type": "code",
   "execution_count": 127,
   "metadata": {},
   "outputs": [
    {
     "name": "stdout",
     "output_type": "stream",
     "text": [
      "despues de la eliminacion 228\n"
     ]
    }
   ],
   "source": [
    "print(\"despues de la eliminacion\", db._collection.count())"
   ]
  },
  {
   "cell_type": "code",
   "execution_count": 128,
   "metadata": {},
   "outputs": [
    {
     "data": {
      "text/plain": [
       "{'ids': [],\n",
       " 'embeddings': None,\n",
       " 'metadatas': [],\n",
       " 'documents': [],\n",
       " 'uris': None,\n",
       " 'data': None}"
      ]
     },
     "execution_count": 128,
     "metadata": {},
     "output_type": "execute_result"
    }
   ],
   "source": [
    "# Confirma que se haya eliminado\n",
    "\n",
    "db.get(where={'$and' : [\n",
    "    { 'page' : {'$gte': 2}},\n",
    "    {'page' : {'$lte': 5 }}\n",
    "]}, where_document={'$contains': 'hechizos' })"
   ]
  },
  {
   "cell_type": "markdown",
   "metadata": {},
   "source": [
    "## Eliminar la coleccion"
   ]
  },
  {
   "cell_type": "code",
   "execution_count": 140,
   "metadata": {},
   "outputs": [],
   "source": [
    "db.delete_collection()"
   ]
  }
 ],
 "metadata": {
  "kernelspec": {
   "display_name": "base",
   "language": "python",
   "name": "python3"
  },
  "language_info": {
   "codemirror_mode": {
    "name": "ipython",
    "version": 3
   },
   "file_extension": ".py",
   "mimetype": "text/x-python",
   "name": "python",
   "nbconvert_exporter": "python",
   "pygments_lexer": "ipython3",
   "version": "3.11.5"
  }
 },
 "nbformat": 4,
 "nbformat_minor": 2
}
